{
 "cells": [
  {
   "cell_type": "markdown",
   "id": "5f1068e2",
   "metadata": {},
   "source": [
    "Thompson örneklemesi çok büyük veri gruplarından bir örneklem aralarak bu örneklem üzerinden tüm veriye uyarlanabilir istatistiksel çıkarımlarda bulunmaktır. Her olayın arkasından bir dağılım olduğunu kabul eder ve örneklem üzerinden bu dağılımı elde etmeye çalışır. Ucb algoritmasına çok benzerdir. Hesaplama işlemlerinde ucb yerine beta dağılımını dikkate alır. Beta dağılımının hesaplanması aşağıdaki formüller ile gösterilmiştir."
   ]
  },
  {
   "cell_type": "code",
   "execution_count": 143,
   "id": "f5a20ee1",
   "metadata": {},
   "outputs": [],
   "source": [
    "import pandas as pd\n",
    "import numpy as np\n",
    "import matplotlib.pyplot as plt\n",
    "import random"
   ]
  },
  {
   "cell_type": "code",
   "execution_count": 32,
   "id": "40d1a4b9",
   "metadata": {},
   "outputs": [],
   "source": [
    "data = pd.read_csv(\"Ads_CTR.csv\")\n",
    "data2 = pd.read_csv(\"slot_machine.csv\")\n",
    "data2.drop(\"Unnamed: 0\",axis=1,inplace=True)"
   ]
  },
  {
   "cell_type": "code",
   "execution_count": 133,
   "id": "c3008b9c",
   "metadata": {},
   "outputs": [],
   "source": [
    "def thompson(data):\n",
    "    Ni_1 = {} # makinenin ödül vermesi yani 1\n",
    "    Ni_0 = {} # ödül vermemesi yani 0\n",
    "    Ni_1.update(zip(list(data.columns.values),[0]*len(data.columns)))\n",
    "    Ni_0.update(zip(list(data.columns.values),[0]*len(data.columns)))\n",
    "    l = []\n",
    "    total_reward = 0\n",
    "    for i in range(0,len(data)):\n",
    "        for xx in data.columns:\n",
    "            start = th_calculater(Ni_1,Ni_0,data)\n",
    "            if data[xx][i] == 1:\n",
    "                Ni_1[xx] = Ni_1[xx]+1\n",
    "            else:\n",
    "                Ni_0[xx] = Ni_0[xx]+1\n",
    "        total_reward = total_reward+data[start][i]\n",
    "        l.append(start) \n",
    "    print(\"toplam ödül: \",total_reward)\n",
    "    return l\n",
    "def th_calculater(Ni_1,Ni_0,data):\n",
    "    l = {}\n",
    "    for i in Ni_1.keys():\n",
    "        alpha,beta = Ni_1[i],Ni_0[i]\n",
    "        random_beta = random.betavariate(alpha+1,beta+1)\n",
    "        l[i] = random_beta\n",
    "    return sorted(l.items(),key= lambda x: x[1])[-1][0]"
   ]
  },
  {
   "cell_type": "code",
   "execution_count": 147,
   "id": "c38c0440",
   "metadata": {},
   "outputs": [
    {
     "name": "stdout",
     "output_type": "stream",
     "text": [
      "toplam ödül:  2695\n"
     ]
    }
   ],
   "source": [
    "l = thompson(data)"
   ]
  },
  {
   "cell_type": "code",
   "execution_count": 148,
   "id": "038d6c18",
   "metadata": {
    "scrolled": true
   },
   "outputs": [
    {
     "data": {
      "text/plain": [
       "(array([9.000e+00, 8.000e+00, 0.000e+00, 1.000e+00, 0.000e+00, 2.000e+00,\n",
       "        9.000e+00, 0.000e+00, 9.852e+03, 1.190e+02]),\n",
       " array([0. , 0.6, 1.2, 1.8, 2.4, 3. , 3.6, 4.2, 4.8, 5.4, 6. ]),\n",
       " <BarContainer object of 10 artists>)"
      ]
     },
     "execution_count": 148,
     "metadata": {},
     "output_type": "execute_result"
    },
    {
     "data": {
      "image/png": "[encoded data removed]",
      "text/plain": [
       "<Figure size 432x288 with 1 Axes>"
      ]
     },
     "metadata": {
      "needs_background": "light"
     },
     "output_type": "display_data"
    }
   ],
   "source": [
    "plt.hist(l)"
   ]
  },
  {
   "cell_type": "code",
   "execution_count": 145,
   "id": "092a33ef",
   "metadata": {},
   "outputs": [
    {
     "name": "stdout",
     "output_type": "stream",
     "text": [
      "toplam ödül:  556\n"
     ]
    }
   ],
   "source": [
    "l2 = thompson(data2)"
   ]
  },
  {
   "cell_type": "code",
   "execution_count": 146,
   "id": "42201639",
   "metadata": {},
   "outputs": [
    {
     "data": {
      "text/plain": [
       "(array([133.,   0.,   4.,   0., 575.,   0., 104.,   0.,  83., 101.]),\n",
       " array([0. , 0.5, 1. , 1.5, 2. , 2.5, 3. , 3.5, 4. , 4.5, 5. ]),\n",
       " <BarContainer object of 10 artists>)"
      ]
     },
     "execution_count": 146,
     "metadata": {},
     "output_type": "execute_result"
    },
    {
     "data": {
      "image/png": "[encoded data removed]",
      "text/plain": [
       "<Figure size 432x288 with 1 Axes>"
      ]
     },
     "metadata": {
      "needs_background": "light"
     },
     "output_type": "display_data"
    }
   ],
   "source": [
    "plt.hist(l2)"
   ]
  }
 ],
 "metadata": {
  "kernelspec": {
   "display_name": "Python 3",
   "language": "python",
   "name": "python3"
  },
  "language_info": {
   "codemirror_mode": {
    "name": "ipython",
    "version": 3
   },
   "file_extension": ".py",
   "mimetype": "text/x-python",
   "name": "python",
   "nbconvert_exporter": "python",
   "pygments_lexer": "ipython3",
   "version": "3.8.8"
  }
 },
 "nbformat": 4,
 "nbformat_minor": 5
}
