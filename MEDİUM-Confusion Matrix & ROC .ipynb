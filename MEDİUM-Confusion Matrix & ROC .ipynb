{
 "cells": [
  {
   "cell_type": "markdown",
   "id": "1e8fd406",
   "metadata": {},
   "source": [
    "Karmaşıklık matrisi bir eksende tahmin diğer ekseninde gerçek değerlerin olduğu 2 boyutlu bir matristir. Tahmin edilen değerler ile gerçek değerler bir takım işlemlerden geçerek bu matris elde edilir ve bu matris üzerinden model hakkında bazı çıkarımlarda bulunulur. Örnekte binomal veriler üzerinden tahminler yapılacaktır."
   ]
  },
  {
   "cell_type": "markdown",
   "id": "9ea0d8a0",
   "metadata": {},
   "source": [
    "Önce gerekli modülleri içeri aktaralım. "
   ]
  },
  {
   "cell_type": "code",
   "execution_count": 4,
   "id": "13bae836",
   "metadata": {},
   "outputs": [],
   "source": [
    "import pandas as pd\n",
    "import numpy as np\n",
    "import matplotlib.pyplot as plt \n",
    "from sklearn.ensemble import RandomForestClassifier\n",
    "from sklearn.model_selection import train_test_split\n",
    "from sklearn.metrics import confusion_matrix,accuracy_score"
   ]
  },
  {
   "cell_type": "markdown",
   "id": "db581a64",
   "metadata": {},
   "source": [
    "####  Veriyi Okuma"
   ]
  },
  {
   "cell_type": "markdown",
   "id": "33b974f6",
   "metadata": {},
   "source": [
    "Veri setimizi pandas ile alalım ve verilerimizi tanıyalım. "
   ]
  },
  {
   "cell_type": "code",
   "execution_count": 5,
   "id": "a962d5ed",
   "metadata": {},
   "outputs": [
    {
     "data": {
      "text/html": [
       "<div>\n",
       "<style scoped>\n",
       "    .dataframe tbody tr th:only-of-type {\n",
       "        vertical-align: middle;\n",
       "    }\n",
       "\n",
       "    .dataframe tbody tr th {\n",
       "        vertical-align: top;\n",
       "    }\n",
       "\n",
       "    .dataframe thead th {\n",
       "        text-align: right;\n",
       "    }\n",
       "</style>\n",
       "<table border=\"1\" class=\"dataframe\">\n",
       "  <thead>\n",
       "    <tr style=\"text-align: right;\">\n",
       "      <th></th>\n",
       "      <th>Cinsiyet</th>\n",
       "      <th>Yaş</th>\n",
       "      <th>Alkol</th>\n",
       "      <th>Sigara</th>\n",
       "      <th>Radyasyon</th>\n",
       "      <th>Kanser</th>\n",
       "    </tr>\n",
       "  </thead>\n",
       "  <tbody>\n",
       "    <tr>\n",
       "      <th>0</th>\n",
       "      <td>e</td>\n",
       "      <td>85</td>\n",
       "      <td>yok</td>\n",
       "      <td>yok</td>\n",
       "      <td>var</td>\n",
       "      <td>hayır</td>\n",
       "    </tr>\n",
       "    <tr>\n",
       "      <th>1</th>\n",
       "      <td>k</td>\n",
       "      <td>33</td>\n",
       "      <td>var</td>\n",
       "      <td>var</td>\n",
       "      <td>yok</td>\n",
       "      <td>evet</td>\n",
       "    </tr>\n",
       "    <tr>\n",
       "      <th>2</th>\n",
       "      <td>e</td>\n",
       "      <td>54</td>\n",
       "      <td>var</td>\n",
       "      <td>yok</td>\n",
       "      <td>var</td>\n",
       "      <td>hayır</td>\n",
       "    </tr>\n",
       "    <tr>\n",
       "      <th>3</th>\n",
       "      <td>e</td>\n",
       "      <td>38</td>\n",
       "      <td>var</td>\n",
       "      <td>var</td>\n",
       "      <td>yok</td>\n",
       "      <td>hayır</td>\n",
       "    </tr>\n",
       "    <tr>\n",
       "      <th>4</th>\n",
       "      <td>e</td>\n",
       "      <td>44</td>\n",
       "      <td>yok</td>\n",
       "      <td>yok</td>\n",
       "      <td>var</td>\n",
       "      <td>evet</td>\n",
       "    </tr>\n",
       "  </tbody>\n",
       "</table>\n",
       "</div>"
      ],
      "text/plain": [
       "  Cinsiyet  Yaş Alkol Sigara Radyasyon Kanser\n",
       "0        e   85   yok    yok       var  hayır\n",
       "1        k   33   var    var       yok   evet\n",
       "2        e   54   var    yok       var  hayır\n",
       "3        e   38   var    var       yok  hayır\n",
       "4        e   44   yok    yok       var   evet"
      ]
     },
     "execution_count": 5,
     "metadata": {},
     "output_type": "execute_result"
    }
   ],
   "source": [
    "data = pd.read_csv(\"kanser.csv\")\n",
    "data.head() # ilk 5 satır"
   ]
  },
  {
   "cell_type": "code",
   "execution_count": 6,
   "id": "da2be00c",
   "metadata": {},
   "outputs": [
    {
     "data": {
      "text/plain": [
       "(50, 6)"
      ]
     },
     "execution_count": 6,
     "metadata": {},
     "output_type": "execute_result"
    }
   ],
   "source": [
    "data.shape"
   ]
  },
  {
   "cell_type": "markdown",
   "id": "0214acc1",
   "metadata": {},
   "source": [
    "Toplam 50 bireyden alınan özellikleri barındırıyor. Veri seti bireylerin cinsiyet, yaş, alkol kullanımı, sigara kullanımı ve radyasyona maruz kalma gibi özelliklerinden yola çıkarak bireyin kanser olup olmadığını göstermektedir. (Veriler random oluşturulmuştur) Bu veri setinin gerekli veri önişleme adımlardan geçtiğini varsayalım ve yolumuza devam edelim."
   ]
  },
  {
   "cell_type": "markdown",
   "id": "efa15fc9",
   "metadata": {},
   "source": [
    "Gelen verilerden kanseri tahmin edeceğimiz için bağımlı değişkenimiz(y) kanser olacaktır"
   ]
  },
  {
   "cell_type": "markdown",
   "id": "9199b4af",
   "metadata": {},
   "source": [
    "Özelliklerin birbirleri ile olan korelasyonuna bakalım."
   ]
  },
  {
   "cell_type": "code",
   "execution_count": 14,
   "id": "d9e02462",
   "metadata": {},
   "outputs": [
    {
     "data": {
      "text/html": [
       "<div>\n",
       "<style scoped>\n",
       "    .dataframe tbody tr th:only-of-type {\n",
       "        vertical-align: middle;\n",
       "    }\n",
       "\n",
       "    .dataframe tbody tr th {\n",
       "        vertical-align: top;\n",
       "    }\n",
       "\n",
       "    .dataframe thead th {\n",
       "        text-align: right;\n",
       "    }\n",
       "</style>\n",
       "<table border=\"1\" class=\"dataframe\">\n",
       "  <thead>\n",
       "    <tr style=\"text-align: right;\">\n",
       "      <th></th>\n",
       "      <th>Cinsiyet</th>\n",
       "      <th>Yaş</th>\n",
       "      <th>Alkol</th>\n",
       "      <th>Sigara</th>\n",
       "      <th>Radyasyon</th>\n",
       "      <th>Kanser</th>\n",
       "    </tr>\n",
       "  </thead>\n",
       "  <tbody>\n",
       "    <tr>\n",
       "      <th>Cinsiyet</th>\n",
       "      <td>1.000000</td>\n",
       "      <td>-0.028550</td>\n",
       "      <td>-0.003213</td>\n",
       "      <td>-0.071140</td>\n",
       "      <td>0.180207</td>\n",
       "      <td>-0.120386</td>\n",
       "    </tr>\n",
       "    <tr>\n",
       "      <th>Yaş</th>\n",
       "      <td>-0.028550</td>\n",
       "      <td>1.000000</td>\n",
       "      <td>-0.253964</td>\n",
       "      <td>-0.253718</td>\n",
       "      <td>-0.109440</td>\n",
       "      <td>-0.148815</td>\n",
       "    </tr>\n",
       "    <tr>\n",
       "      <th>Alkol</th>\n",
       "      <td>-0.003213</td>\n",
       "      <td>-0.253964</td>\n",
       "      <td>1.000000</td>\n",
       "      <td>0.125809</td>\n",
       "      <td>0.294174</td>\n",
       "      <td>-0.080064</td>\n",
       "    </tr>\n",
       "    <tr>\n",
       "      <th>Sigara</th>\n",
       "      <td>-0.071140</td>\n",
       "      <td>-0.253718</td>\n",
       "      <td>0.125809</td>\n",
       "      <td>1.000000</td>\n",
       "      <td>0.098693</td>\n",
       "      <td>0.161165</td>\n",
       "    </tr>\n",
       "    <tr>\n",
       "      <th>Radyasyon</th>\n",
       "      <td>0.180207</td>\n",
       "      <td>-0.109440</td>\n",
       "      <td>0.294174</td>\n",
       "      <td>0.098693</td>\n",
       "      <td>1.000000</td>\n",
       "      <td>-0.081650</td>\n",
       "    </tr>\n",
       "    <tr>\n",
       "      <th>Kanser</th>\n",
       "      <td>-0.120386</td>\n",
       "      <td>-0.148815</td>\n",
       "      <td>-0.080064</td>\n",
       "      <td>0.161165</td>\n",
       "      <td>-0.081650</td>\n",
       "      <td>1.000000</td>\n",
       "    </tr>\n",
       "  </tbody>\n",
       "</table>\n",
       "</div>"
      ],
      "text/plain": [
       "           Cinsiyet       Yaş     Alkol    Sigara  Radyasyon    Kanser\n",
       "Cinsiyet   1.000000 -0.028550 -0.003213 -0.071140   0.180207 -0.120386\n",
       "Yaş       -0.028550  1.000000 -0.253964 -0.253718  -0.109440 -0.148815\n",
       "Alkol     -0.003213 -0.253964  1.000000  0.125809   0.294174 -0.080064\n",
       "Sigara    -0.071140 -0.253718  0.125809  1.000000   0.098693  0.161165\n",
       "Radyasyon  0.180207 -0.109440  0.294174  0.098693   1.000000 -0.081650\n",
       "Kanser    -0.120386 -0.148815 -0.080064  0.161165  -0.081650  1.000000"
      ]
     },
     "execution_count": 14,
     "metadata": {},
     "output_type": "execute_result"
    }
   ],
   "source": [
    "data.corr() # Not: veriler nümerik olmalı"
   ]
  },
  {
   "cell_type": "markdown",
   "id": "4330727b",
   "metadata": {},
   "source": [
    "Veriler random olduğu için korelasyon değerleri pek iyi sayılmaz. Bu yazıda daha çok karmaşıklık matrisini ele alacağımız için bu süreçleri atlayarak model kuralım."
   ]
  },
  {
   "cell_type": "markdown",
   "id": "17bba819",
   "metadata": {},
   "source": [
    "####  Kategorik Değişkenler => Numeric Değişkenler"
   ]
  },
  {
   "cell_type": "markdown",
   "id": "1a78805e",
   "metadata": {},
   "source": [
    "Modelimizi kurmadan önce veri setindeki özellikler(Yaş hariç) kategorik değişkenlerdir. Bunları önce numeric değerlere 0 ve 1\n",
    "gibi modelin anlayacağı dile çevirelim. Sklearn içindeki çeşitli encoding yöntemleri yapabiliriz ama basit bir işlem olduğu için elle bir fonksiyon yazıp işlemi gerçekleştirelim."
   ]
  },
  {
   "cell_type": "markdown",
   "id": "aef7dad4",
   "metadata": {},
   "source": [
    "categorical_encoder fonksiyonumuz;"
   ]
  },
  {
   "cell_type": "code",
   "execution_count": 9,
   "id": "5116cd3a",
   "metadata": {},
   "outputs": [],
   "source": [
    "def categorical_encoder(data,column_name):\n",
    "    if len(data[column_name].unique()) == 2:\n",
    "        data[column_name].replace(\n",
    "            {data[column_name].unique()[0]:0,\n",
    "             data[column_name].unique()[1]:1},inplace=True)\n",
    "    else:\n",
    "        data[data[column_name].unique()] = 0\n",
    "        for i in range(0,len(data)):\n",
    "            data[data[column_name][i]][i] = 1\n",
    "        data.drop(f\"{column_name}\",axis=1,inplace = True)\n",
    "    return data"
   ]
  },
  {
   "cell_type": "markdown",
   "id": "b14d9838",
   "metadata": {},
   "source": [
    "Fonksiyon basitçe veri setini ve numeric yapılmak istenen değişkeni alıp numeric bir veri olarak return ediyor. Bütün kolonları(özellik-feature) tek tek fonksiyona göndermeyelim for döngüsü ile daha seri bir şekilde işimizi halledelim."
   ]
  },
  {
   "cell_type": "code",
   "execution_count": 10,
   "id": "ce8b344c",
   "metadata": {
    "scrolled": true
   },
   "outputs": [],
   "source": [
    "for i in data.drop(\"Yaş\",axis=1).columns:\n",
    "    categorical_encoder(data,i)"
   ]
  },
  {
   "cell_type": "markdown",
   "id": "f1303cfb",
   "metadata": {},
   "source": [
    "Bu işlemden sonra veri setimize bakalım"
   ]
  },
  {
   "cell_type": "code",
   "execution_count": 11,
   "id": "b3a45db0",
   "metadata": {},
   "outputs": [
    {
     "data": {
      "text/html": [
       "<div>\n",
       "<style scoped>\n",
       "    .dataframe tbody tr th:only-of-type {\n",
       "        vertical-align: middle;\n",
       "    }\n",
       "\n",
       "    .dataframe tbody tr th {\n",
       "        vertical-align: top;\n",
       "    }\n",
       "\n",
       "    .dataframe thead th {\n",
       "        text-align: right;\n",
       "    }\n",
       "</style>\n",
       "<table border=\"1\" class=\"dataframe\">\n",
       "  <thead>\n",
       "    <tr style=\"text-align: right;\">\n",
       "      <th></th>\n",
       "      <th>Cinsiyet</th>\n",
       "      <th>Yaş</th>\n",
       "      <th>Alkol</th>\n",
       "      <th>Sigara</th>\n",
       "      <th>Radyasyon</th>\n",
       "      <th>Kanser</th>\n",
       "    </tr>\n",
       "  </thead>\n",
       "  <tbody>\n",
       "    <tr>\n",
       "      <th>0</th>\n",
       "      <td>0</td>\n",
       "      <td>85</td>\n",
       "      <td>0</td>\n",
       "      <td>0</td>\n",
       "      <td>0</td>\n",
       "      <td>0</td>\n",
       "    </tr>\n",
       "    <tr>\n",
       "      <th>1</th>\n",
       "      <td>1</td>\n",
       "      <td>33</td>\n",
       "      <td>1</td>\n",
       "      <td>1</td>\n",
       "      <td>1</td>\n",
       "      <td>1</td>\n",
       "    </tr>\n",
       "    <tr>\n",
       "      <th>2</th>\n",
       "      <td>0</td>\n",
       "      <td>54</td>\n",
       "      <td>1</td>\n",
       "      <td>0</td>\n",
       "      <td>0</td>\n",
       "      <td>0</td>\n",
       "    </tr>\n",
       "    <tr>\n",
       "      <th>3</th>\n",
       "      <td>0</td>\n",
       "      <td>38</td>\n",
       "      <td>1</td>\n",
       "      <td>1</td>\n",
       "      <td>1</td>\n",
       "      <td>0</td>\n",
       "    </tr>\n",
       "    <tr>\n",
       "      <th>4</th>\n",
       "      <td>0</td>\n",
       "      <td>44</td>\n",
       "      <td>0</td>\n",
       "      <td>0</td>\n",
       "      <td>0</td>\n",
       "      <td>1</td>\n",
       "    </tr>\n",
       "  </tbody>\n",
       "</table>\n",
       "</div>"
      ],
      "text/plain": [
       "   Cinsiyet  Yaş  Alkol  Sigara  Radyasyon  Kanser\n",
       "0         0   85      0       0          0       0\n",
       "1         1   33      1       1          1       1\n",
       "2         0   54      1       0          0       0\n",
       "3         0   38      1       1          1       0\n",
       "4         0   44      0       0          0       1"
      ]
     },
     "execution_count": 11,
     "metadata": {},
     "output_type": "execute_result"
    }
   ],
   "source": [
    "data.head() # ilk 5 satır"
   ]
  },
  {
   "cell_type": "markdown",
   "id": "ced3cd89",
   "metadata": {},
   "source": [
    "Evet görüldüğü üzere veri setindeki kategorik değişkenler 0 ve 1'lerden oluşan numeric değerlere çevrilmiş durumda. Kanser kolonunda 0 'hayır' yani kanser değil ve 1 'evet' yani kanserdir değerlerini temsil eder."
   ]
  },
  {
   "cell_type": "markdown",
   "id": "3bb68f7e",
   "metadata": {},
   "source": [
    "#### Veri setini bölme (train test split)  &  Model kurma"
   ]
  },
  {
   "cell_type": "markdown",
   "id": "0f323114",
   "metadata": {},
   "source": [
    "Verileri eğitim ve test olarak bölelim ve model kurmak için veriyi hazır hale getirelim. "
   ]
  },
  {
   "cell_type": "code",
   "execution_count": 12,
   "id": "d51d3c88",
   "metadata": {},
   "outputs": [
    {
     "data": {
      "text/plain": [
       "RandomForestClassifier()"
      ]
     },
     "execution_count": 12,
     "metadata": {},
     "output_type": "execute_result"
    }
   ],
   "source": [
    "X = data.drop(\"Kanser\",axis=1)\n",
    "Y = data[\"Kanser\"]\n",
    "\n",
    "x_train,x_test,y_train,y_test = train_test_split(X,Y,test_size=0.30,random_state=0)\n",
    "\n",
    "rfc = RandomForestClassifier()\n",
    "rfc.fit(x_train,y_train)"
   ]
  },
  {
   "cell_type": "markdown",
   "id": "f2348963",
   "metadata": {},
   "source": [
    "yukarıda bölünmüş verilerle Random Forest ile bir model kuruldu ve model eğitildi. Kurulan bu model ile tahmin yapalım."
   ]
  },
  {
   "cell_type": "code",
   "execution_count": 17,
   "id": "40fa3209",
   "metadata": {},
   "outputs": [
    {
     "data": {
      "text/plain": [
       "array([1, 1, 0, 0, 0, 1, 1, 1, 0, 1, 1, 1, 1, 0, 0], dtype=int64)"
      ]
     },
     "execution_count": 17,
     "metadata": {},
     "output_type": "execute_result"
    }
   ],
   "source": [
    "y_pred = rfc.predict(x_test)\n",
    "y_pred # tahmin değerleri"
   ]
  },
  {
   "cell_type": "markdown",
   "id": "03a0954a",
   "metadata": {},
   "source": [
    "#### Confusion Matrix"
   ]
  },
  {
   "cell_type": "markdown",
   "id": "149a3429",
   "metadata": {},
   "source": [
    "Yapılan bu tahmin değerleri elimizde bulunan gerçek değerler (y_test değerleri) arasında bazı karşılaştırmalar yapalım.\n",
    "Gerçek ve tahmin değerlerini bir dataframe ile birleştirip görelim."
   ]
  },
  {
   "cell_type": "code",
   "execution_count": 18,
   "id": "01234557",
   "metadata": {},
   "outputs": [
    {
     "data": {
      "text/html": [
       "<div>\n",
       "<style scoped>\n",
       "    .dataframe tbody tr th:only-of-type {\n",
       "        vertical-align: middle;\n",
       "    }\n",
       "\n",
       "    .dataframe tbody tr th {\n",
       "        vertical-align: top;\n",
       "    }\n",
       "\n",
       "    .dataframe thead th {\n",
       "        text-align: right;\n",
       "    }\n",
       "</style>\n",
       "<table border=\"1\" class=\"dataframe\">\n",
       "  <thead>\n",
       "    <tr style=\"text-align: right;\">\n",
       "      <th></th>\n",
       "      <th>Kanser (tahmin)</th>\n",
       "      <th>Kanser (gercek)</th>\n",
       "    </tr>\n",
       "  </thead>\n",
       "  <tbody>\n",
       "    <tr>\n",
       "      <th>0</th>\n",
       "      <td>1</td>\n",
       "      <td>1</td>\n",
       "    </tr>\n",
       "    <tr>\n",
       "      <th>1</th>\n",
       "      <td>1</td>\n",
       "      <td>0</td>\n",
       "    </tr>\n",
       "    <tr>\n",
       "      <th>2</th>\n",
       "      <td>0</td>\n",
       "      <td>0</td>\n",
       "    </tr>\n",
       "    <tr>\n",
       "      <th>3</th>\n",
       "      <td>0</td>\n",
       "      <td>1</td>\n",
       "    </tr>\n",
       "    <tr>\n",
       "      <th>4</th>\n",
       "      <td>0</td>\n",
       "      <td>0</td>\n",
       "    </tr>\n",
       "  </tbody>\n",
       "</table>\n",
       "</div>"
      ],
      "text/plain": [
       "   Kanser (tahmin)  Kanser (gercek)\n",
       "0                1                1\n",
       "1                1                0\n",
       "2                0                0\n",
       "3                0                1\n",
       "4                0                0"
      ]
     },
     "execution_count": 18,
     "metadata": {},
     "output_type": "execute_result"
    }
   ],
   "source": [
    "sonuc = pd.DataFrame(y_pred,columns=[\"Kanser (tahmin)\"])\n",
    "sonuc[\"Kanser (gercek)\"] = y_test.values\n",
    "sonuc.head() # ilk 5 satırı"
   ]
  },
  {
   "cell_type": "markdown",
   "id": "276c7e01",
   "metadata": {},
   "source": [
    "yukarıdak tabloyu inceleyecek olursak gerçekte 1 olan('evet' yani kanser) değeri modelimiz de 1 olarak tahmin etmiş doğru bir\n",
    "tahmin yapmış. Gerçekte 0 olan('hayır') değeri modelimiz 1 olarak yani evet olarak yanlış bir tahmin yapmış oldu. İşte bu tahmin ve gerçek değerleri karşılaştırdığımızda aşağıdaki kavramlarla karşılaşırız."
   ]
  },
  {
   "cell_type": "markdown",
   "id": "36336f7b",
   "metadata": {},
   "source": [
    "Pozitif(p) = evet (1) \n",
    "\n",
    "negatif(k) = hayır (0)   olarak belirtilsin.\n",
    "<p style=\"color:red;\">True pozitif(Tp):</p> Gerçekte kanser olan birisini modelin de \"kanser\" olarak tahmin etmesi (Yani doğru bir tahmin var ve pozitif yönde)\n",
    "<p style=\"color:red;\">True negatif(Tn):</p> Gerçekte kanser olmayan birisini modelin de \"kanser değil\" olarak tahmin etmesi (Doğru bir tahmin var ve negatif yönde)\n",
    "<p style=\"color:red;\">False negatif(Fn):</p> Gerçekte kanser olan birisini modelin \"kanser değil\" olarak tahmin etmesi (Yanlış bir tahmin var ve negatif yönde)\n",
    "<p style=\"color:red;\">False pozitif(Fp):</p> Gerçekte kanser olmayan birisini modelin \"kanser\" olarak tahmin etmesi (Yanlış bir tahmin var ve pozitif yönde)\n",
    "\n",
    "<p style =\"color: red\">Accuracy Score: </p> Sınıflandırma algoritmasının başarısını ölçer. Doğru yapılan tahminlerin tüm tahminlere oranını belirtir. 100 tane tahmin için 75 tanesini doğru bir şekilde tahmin ettiğimizi varsayarsak accuracy score 75/100 yani 0.75 olarak bulunur. Modeli değerlendirmek için bu değer tek başına yeterli olmayabilir. \n",
    "\n",
    "Formül = (tp+tn) / toplam tahmin sayısı\n",
    "\n",
    "\n",
    "<p style=\"color:red;\">recall(sensitivity)(TPR):</p>True Positive Rate (Doğru positif oranı) gerçekte kanser olanların kaç tanesinin doğru sınıflandırıldığını belirtir. Gerçekte kanser olanların/(Gerçekte kanser)modelin \"kanser\" ve \"kanser değil\" olarak tahmin ettiği veriler toplamı\n",
    "\n",
    "Formül = Tp / (Tp+Fn)\n",
    "\n",
    "<p style=\"color:red;\">False Positive Rate(FPR):</p>Yanlış pozitif oranı gerçekte kanser olmayanların kaç tanesinin doğru sınıflandırıldığını belirtir. Gerçekte kanser olmayan/Gerçekte kanser olmayan birisini modelin \"kanser\" + Gerçekte kanser olmayan birisini modelin \"kanser değil\" olarak tahmin ettiği veriler\n",
    "\n",
    "Formül = Fp / (Tn+Fp)"
   ]
  },
  {
   "cell_type": "markdown",
   "id": "3c4f1adc",
   "metadata": {},
   "source": [
    "Hayır  negatif olarak ve evet ise pozitif olarak kabul edersek şöyle bir tablo elde edebiliriz"
   ]
  },
  {
   "cell_type": "code",
   "execution_count": 200,
   "id": "0b472a0f",
   "metadata": {},
   "outputs": [
    {
     "data": {
      "image/png": "[encoded data removed]",
      "text/plain": [
       "<PIL.PngImagePlugin.PngImageFile image mode=RGB size=485x82 at 0x262E462C4F0>"
      ]
     },
     "execution_count": 200,
     "metadata": {},
     "output_type": "execute_result"
    }
   ],
   "source": [
    "from PIL import Image\n",
    "Image.open(\"cm_matrix.png\")"
   ]
  },
  {
   "cell_type": "markdown",
   "id": "108cbeab",
   "metadata": {},
   "source": [
    "Yukarıdaki kavramları anladığımıza göre bu değerleri gerçek ve tahminlerden nasıl elde edeceğimize bakalım."
   ]
  },
  {
   "cell_type": "markdown",
   "id": "c8922059",
   "metadata": {},
   "source": [
    "True positive aslında gerçekte 1 olup modelin de 1 olarak tahmin ettiği değerlerdir. O halde gerçekler ile tahminleri topladığımızda 2 olanların sayısı bize True positive sayısını verecektir.\n",
    "\n",
    "True negative ise gerçekte 0 olup modelin de 0 olarak tahmin ettiği değerlerdir. Yine gerçekler ve tahminleri toplarsak 0 olanların sayısı ( 0 ile 0 toplamı yine sıfırdır :) ) bize true negative sayısını verecektir.\n",
    "\n",
    "False pozitif gerçekte 0 olup modelin 1 olarak tahmin ettiği değerlerdir. O halde gerçekler ile tahmin çıkarılırsa -1 olanların sayısı (0-1 = -1) bize false negative sayısını verecektir.\n",
    "\n",
    "False negative ise gerçekte 1 olup modelin 0 olarak tahmin ettiği değerlerdir. O zaman gerçeklerin ve tahminlerin birbirlerinde çıkarılması ile elde edilen 1 (1-0= 1) değerlerinin sayısı bize  false negative sayısını verecektir."
   ]
  },
  {
   "cell_type": "markdown",
   "id": "1605a251",
   "metadata": {},
   "source": [
    "Gerçek değerleri ve tahmin değerleri birbirleri ile toplayıp çıkarım. Bunlar dataframe olarak tabloda gösterelim"
   ]
  },
  {
   "cell_type": "code",
   "execution_count": 19,
   "id": "58e5c689",
   "metadata": {},
   "outputs": [
    {
     "data": {
      "text/html": [
       "<div>\n",
       "<style scoped>\n",
       "    .dataframe tbody tr th:only-of-type {\n",
       "        vertical-align: middle;\n",
       "    }\n",
       "\n",
       "    .dataframe tbody tr th {\n",
       "        vertical-align: top;\n",
       "    }\n",
       "\n",
       "    .dataframe thead th {\n",
       "        text-align: right;\n",
       "    }\n",
       "</style>\n",
       "<table border=\"1\" class=\"dataframe\">\n",
       "  <thead>\n",
       "    <tr style=\"text-align: right;\">\n",
       "      <th></th>\n",
       "      <th>Kanser (tahmin)</th>\n",
       "      <th>Kanser (gercek)</th>\n",
       "      <th>toplam</th>\n",
       "      <th>fark</th>\n",
       "    </tr>\n",
       "  </thead>\n",
       "  <tbody>\n",
       "    <tr>\n",
       "      <th>0</th>\n",
       "      <td>1</td>\n",
       "      <td>1</td>\n",
       "      <td>2</td>\n",
       "      <td>0</td>\n",
       "    </tr>\n",
       "    <tr>\n",
       "      <th>1</th>\n",
       "      <td>1</td>\n",
       "      <td>0</td>\n",
       "      <td>1</td>\n",
       "      <td>1</td>\n",
       "    </tr>\n",
       "    <tr>\n",
       "      <th>2</th>\n",
       "      <td>0</td>\n",
       "      <td>0</td>\n",
       "      <td>0</td>\n",
       "      <td>0</td>\n",
       "    </tr>\n",
       "    <tr>\n",
       "      <th>3</th>\n",
       "      <td>0</td>\n",
       "      <td>1</td>\n",
       "      <td>1</td>\n",
       "      <td>-1</td>\n",
       "    </tr>\n",
       "    <tr>\n",
       "      <th>4</th>\n",
       "      <td>0</td>\n",
       "      <td>0</td>\n",
       "      <td>0</td>\n",
       "      <td>0</td>\n",
       "    </tr>\n",
       "    <tr>\n",
       "      <th>5</th>\n",
       "      <td>1</td>\n",
       "      <td>0</td>\n",
       "      <td>1</td>\n",
       "      <td>1</td>\n",
       "    </tr>\n",
       "    <tr>\n",
       "      <th>6</th>\n",
       "      <td>1</td>\n",
       "      <td>1</td>\n",
       "      <td>2</td>\n",
       "      <td>0</td>\n",
       "    </tr>\n",
       "    <tr>\n",
       "      <th>7</th>\n",
       "      <td>1</td>\n",
       "      <td>1</td>\n",
       "      <td>2</td>\n",
       "      <td>0</td>\n",
       "    </tr>\n",
       "    <tr>\n",
       "      <th>8</th>\n",
       "      <td>0</td>\n",
       "      <td>1</td>\n",
       "      <td>1</td>\n",
       "      <td>-1</td>\n",
       "    </tr>\n",
       "    <tr>\n",
       "      <th>9</th>\n",
       "      <td>1</td>\n",
       "      <td>1</td>\n",
       "      <td>2</td>\n",
       "      <td>0</td>\n",
       "    </tr>\n",
       "    <tr>\n",
       "      <th>10</th>\n",
       "      <td>1</td>\n",
       "      <td>0</td>\n",
       "      <td>1</td>\n",
       "      <td>1</td>\n",
       "    </tr>\n",
       "    <tr>\n",
       "      <th>11</th>\n",
       "      <td>1</td>\n",
       "      <td>1</td>\n",
       "      <td>2</td>\n",
       "      <td>0</td>\n",
       "    </tr>\n",
       "    <tr>\n",
       "      <th>12</th>\n",
       "      <td>1</td>\n",
       "      <td>0</td>\n",
       "      <td>1</td>\n",
       "      <td>1</td>\n",
       "    </tr>\n",
       "    <tr>\n",
       "      <th>13</th>\n",
       "      <td>0</td>\n",
       "      <td>0</td>\n",
       "      <td>0</td>\n",
       "      <td>0</td>\n",
       "    </tr>\n",
       "    <tr>\n",
       "      <th>14</th>\n",
       "      <td>0</td>\n",
       "      <td>0</td>\n",
       "      <td>0</td>\n",
       "      <td>0</td>\n",
       "    </tr>\n",
       "  </tbody>\n",
       "</table>\n",
       "</div>"
      ],
      "text/plain": [
       "    Kanser (tahmin)  Kanser (gercek)  toplam  fark\n",
       "0                 1                1       2     0\n",
       "1                 1                0       1     1\n",
       "2                 0                0       0     0\n",
       "3                 0                1       1    -1\n",
       "4                 0                0       0     0\n",
       "5                 1                0       1     1\n",
       "6                 1                1       2     0\n",
       "7                 1                1       2     0\n",
       "8                 0                1       1    -1\n",
       "9                 1                1       2     0\n",
       "10                1                0       1     1\n",
       "11                1                1       2     0\n",
       "12                1                0       1     1\n",
       "13                0                0       0     0\n",
       "14                0                0       0     0"
      ]
     },
     "execution_count": 19,
     "metadata": {},
     "output_type": "execute_result"
    }
   ],
   "source": [
    "sonuc[\"toplam\"] = sonuc[f\"Kanser (tahmin)\"]+sonuc[\"Kanser (gercek)\"]\n",
    "sonuc[\"fark\"] = sonuc[\"Kanser (tahmin)\"]-sonuc[\"Kanser (gercek)\"]\n",
    "sonuc.head()"
   ]
  },
  {
   "cell_type": "markdown",
   "id": "011f516a",
   "metadata": {},
   "source": [
    "Toplam sütunundaki 2 değerleri TP, 0 değerleri TN\n",
    "Fark sütunundaki -1 değerleri FP, 1 değerleri FN şeklinde olacaktır."
   ]
  },
  {
   "cell_type": "markdown",
   "id": "994e39d8",
   "metadata": {},
   "source": [
    "Bu değerleri sayalım\n"
   ]
  },
  {
   "cell_type": "code",
   "execution_count": 20,
   "id": "a966fc4f",
   "metadata": {},
   "outputs": [
    {
     "name": "stdout",
     "output_type": "stream",
     "text": [
      "TP: 5\n",
      "TN: 4\n",
      "FP: 2\n",
      "FN: 4\n"
     ]
    }
   ],
   "source": [
    "TP  = sonuc.query(\"toplam == 2\").count()[0]\n",
    "TN = sonuc.query(\"toplam == 0\").count()[0]\n",
    "FP = sonuc.query(\"fark == -1\").count()[0]\n",
    "FN = sonuc.query(\"fark == 1\").count()[0]\n",
    "print(f\"TP: {TP}\\nTN: {TN}\\nFP: {FP}\\nFN: {FN}\")"
   ]
  },
  {
   "cell_type": "markdown",
   "id": "e038dd5c",
   "metadata": {},
   "source": [
    "Yukarıdaki tablodan hareketle karmaşıklık matrisini oluşturalım."
   ]
  },
  {
   "cell_type": "code",
   "execution_count": 21,
   "id": "afeeca7a",
   "metadata": {},
   "outputs": [
    {
     "name": "stdout",
     "output_type": "stream",
     "text": [
      "Karmaşıklık Matrisi(Confusion Matrix):\n",
      " [[4 4]\n",
      " [2 5]]\n"
     ]
    }
   ],
   "source": [
    "matrix = np.array([TN,FN,FP,TP]).reshape(2,2)\n",
    "print(\"Karmaşıklık Matrisi(Confusion Matrix):\\n\",matrix)"
   ]
  },
  {
   "cell_type": "markdown",
   "id": "aa677fa0",
   "metadata": {},
   "source": [
    "diğer terimleri hesaplayalım"
   ]
  },
  {
   "cell_type": "code",
   "execution_count": 22,
   "id": "d862dad0",
   "metadata": {},
   "outputs": [
    {
     "name": "stdout",
     "output_type": "stream",
     "text": [
      "acc: 0.6\n",
      "precision: 0.714\n",
      "recall: 0.556\n",
      "specificity: 0.667\n",
      "f1 score: 0.556\n",
      "FPR: 0.333\n"
     ]
    }
   ],
   "source": [
    "acc = round((TP+TN)/sonuc.shape[0],3)\n",
    "precision = round(TP/(TP+FP),3)\n",
    "recall_sensitivity = round(TP/(TP+FN),3)\n",
    "specificity = round(TN/(TN+FP),3)\n",
    "f1_score = round(2*((precision*recall_sensitivity)/(precision*2)),3)\n",
    "false_pos_rate = round(1-specificity,3)\n",
    "print(f\"\"\"acc: {acc}\n",
    "precision: {precision}\n",
    "recall: {recall_sensitivity}\n",
    "specificity: {specificity}\n",
    "f1 score: {f1_score}\n",
    "FPR: {false_pos_rate}\"\"\")"
   ]
  },
  {
   "cell_type": "markdown",
   "id": "bfff9d50",
   "metadata": {},
   "source": [
    "#### Accuracy Paradox ve ZeroR algoritması"
   ]
  },
  {
   "cell_type": "markdown",
   "id": "c3a0e1a3",
   "metadata": {},
   "source": [
    "Sadece accuracy değerlerine bakılarak sınıflandırma algoritmalarını değerlendirmek doğru olmayabilir. Örnek olarak ZeroR algoritması verilebilir. ZeroR algoritması esasında gelen verilerin sınıflarına bakar ve hangi sınıftan daha fazla örnek varsa onu çıktı değeri belirler. Yani Gelen verilerden en çok 1 değeri varsa bundan sonra yapılacak tüm tahminlerde sonuç olarak 1 döndürecektir çünkü en fazla örnek 1 sınıfına ait. Böyle olunca accuracy değerleri daha yüksek çıkmaya başlar. Oysaki hiç bir öğrenme ve değerledirme yapmadan TN,TP,FN,FP değerli tek bir sınıfa dahil ederek çıktı üretiyor. Bu algoritma accuracy değeri yüksek çıkmasına rağmen başarılı bir algoritma olarak değerlendirilmez. Çünkü diğer tüm çıktıları gözardı ederek sadece fazlalığa odaklandığı için sağlıklı bir sonuç vermeyecektir. O yüzdendir ki sınıflama algoritmalarını değerlendirirken diğer kriterleri de göz önünde bulundurmak gerekir."
   ]
  },
  {
   "cell_type": "code",
   "execution_count": 23,
   "id": "f6d2cc31",
   "metadata": {},
   "outputs": [
    {
     "data": {
      "text/plain": [
       "array([[4, 4],\n",
       "       [2, 5]], dtype=int64)"
      ]
     },
     "execution_count": 23,
     "metadata": {},
     "output_type": "execute_result"
    }
   ],
   "source": [
    "confusion_matrix(y_test,y_pred)"
   ]
  },
  {
   "cell_type": "code",
   "execution_count": 101,
   "id": "442933c5",
   "metadata": {
    "scrolled": false
   },
   "outputs": [
    {
     "name": "stdout",
     "output_type": "stream",
     "text": [
      "acc: 0.533\n",
      "precision: 0.714\n",
      "recall: 0.5\n",
      "specificity: 0.6\n",
      "f1 score: 0.5\n",
      "FPR: 0.4\n"
     ]
    },
    {
     "data": {
      "text/plain": [
       "array([[3, 5],\n",
       "       [2, 5]], dtype=int64)"
      ]
     },
     "execution_count": 101,
     "metadata": {},
     "output_type": "execute_result"
    }
   ],
   "source": [
    "Confusion_Matrix(y_test,y_pred)"
   ]
  },
  {
   "cell_type": "code",
   "execution_count": 172,
   "id": "081c8dee",
   "metadata": {},
   "outputs": [
    {
     "data": {
      "text/plain": [
       "array([[3, 5],\n",
       "       [4, 3]], dtype=int64)"
      ]
     },
     "execution_count": 172,
     "metadata": {},
     "output_type": "execute_result"
    }
   ],
   "source": [
    "accuracy_score(y_test,y_pred)\n",
    "confusion_matrix(y_test,y_pred)"
   ]
  },
  {
   "cell_type": "markdown",
   "id": "c636b393",
   "metadata": {},
   "source": [
    "### ROC (Receiver Operating Characteristic)"
   ]
  },
  {
   "cell_type": "code",
   "execution_count": 24,
   "id": "0e0ac0a8",
   "metadata": {},
   "outputs": [],
   "source": [
    "from sklearn.tree import DecisionTreeClassifier\n",
    "from sklearn.naive_bayes import GaussianNB\n",
    "from sklearn.metrics import roc_auc_score,roc_curve"
   ]
  },
  {
   "cell_type": "code",
   "execution_count": 25,
   "id": "03e7ffd7",
   "metadata": {
    "collapsed": true
   },
   "outputs": [
    {
     "name": "stderr",
     "output_type": "stream",
     "text": [
      "C:\\Users\\akmet\\anaconda3\\lib\\site-packages\\sklearn\\utils\\validation.py:63: DataConversionWarning: A column-vector y was passed when a 1d array was expected. Please change the shape of y to (n_samples, ), for example using ravel().\n",
      "  return f(*args, **kwargs)\n"
     ]
    }
   ],
   "source": [
    "gnb = GaussianNB()\n",
    "gnb.fit(x_train,y_train)\n",
    "gnb_predict = gnb.predict(x_test)"
   ]
  },
  {
   "cell_type": "code",
   "execution_count": 26,
   "id": "f59f9490",
   "metadata": {},
   "outputs": [],
   "source": [
    "dtc = DecisionTreeClassifier()\n",
    "dtc.fit(x_train,y_train)\n",
    "dtc_predict = dtc.predict(x_test)"
   ]
  },
  {
   "cell_type": "code",
   "execution_count": 40,
   "id": "ab3c2871",
   "metadata": {},
   "outputs": [
    {
     "name": "stdout",
     "output_type": "stream",
     "text": [
      "Roc AUC:GNB 0.6964285714285714\n",
      "Roc AUC:DTC 0.6517857142857143\n",
      "Roc AUC:RFC 0.5892857142857143\n"
     ]
    },
    {
     "data": {
      "image/png": "[encoded data removed]",
      "text/plain": [
       "<Figure size 432x288 with 1 Axes>"
      ]
     },
     "metadata": {
      "needs_background": "light"
     },
     "output_type": "display_data"
    }
   ],
   "source": [
    "y_proba = gnb.predict_proba(x_test)[:,1]\n",
    "print(\"Roc AUC:\"+\"GNB\", roc_auc_score(y_test, gnb.predict_proba(x_test)[:,1],average='macro'))\n",
    "fpr, tpr, thresholds = roc_curve(y_test, y_proba)\n",
    "plt.plot(fpr, tpr, label=\"GNB\")\n",
    "\n",
    "y_proba = dtc.predict_proba(x_test)[:,1]\n",
    "print(\"Roc AUC:\"+\"DTC\", roc_auc_score(y_test, dtc.predict_proba(x_test)[:,1],average='macro'))\n",
    "fpr, tpr, thresholds = roc_curve(y_test, y_proba)\n",
    "plt.plot(fpr, tpr, label=\"DTC\")\n",
    "\n",
    "y_proba = rfc.predict_proba(x_test)[:,1]\n",
    "print(\"Roc AUC:\"+\"RFC\", roc_auc_score(y_test, rfc.predict_proba(x_test)[:,1],average='macro'))\n",
    "fpr, tpr, thresholds = roc_curve(y_test, y_proba)\n",
    "plt.plot(fpr, tpr, label=\"RFC\")\n",
    "\n",
    "plt.xlabel('False positive rate')\n",
    "plt.ylabel('True positive rate')\n",
    "plt.title('ROC curve')\n",
    "plt.legend(loc='best')\n",
    "plt.show()"
   ]
  },
  {
   "cell_type": "markdown",
   "id": "7fdeb6fe",
   "metadata": {},
   "source": [
    "AUC, oluşturulan modellerin verilere ne kadar hızlı cevap verdiğini gösterir. Yukarıda 3 model için AUC değerleri görünmektedir"
   ]
  },
  {
   "cell_type": "code",
   "execution_count": 75,
   "id": "7b585926",
   "metadata": {
    "collapsed": true
   },
   "outputs": [
    {
     "name": "stdout",
     "output_type": "stream",
     "text": [
      "acc: 0.6\n",
      "precision: 0.714\n",
      "recall: 0.556\n",
      "specificity: 0.667\n",
      "f1 score: 0.556\n",
      "FPR: 0.33299999999999996\n",
      "acc: 0.667\n",
      "precision: 0.429\n",
      "recall: 0.75\n",
      "specificity: 0.636\n",
      "f1 score: 0.75\n",
      "FPR: 0.364\n",
      "acc: 0.6\n",
      "precision: 0.571\n",
      "recall: 0.571\n",
      "specificity: 0.625\n",
      "f1 score: 0.571\n",
      "FPR: 0.375\n"
     ]
    }
   ],
   "source": [
    "rfc_cm = Confusion_Matrix(y_test,y_pred)\n",
    "dtc_cm = Confusion_Matrix(y_test,dtc_predict)\n",
    "gnb_cm = Confusion_Matrix(y_test,gnb_predict)"
   ]
  },
  {
   "cell_type": "markdown",
   "id": "dd1b9272",
   "metadata": {},
   "source": [
    "koordinat düzlemine trp ve fpr verilerek her bir algoritmanın tpr v fpr verileri bu düzlemde bir nokta olarak belirtilmesidir. Birden fazla sınıflandırma algoritmaları için bir karar vermek için kullanılır"
   ]
  },
  {
   "cell_type": "code",
   "execution_count": 68,
   "id": "6705b3ec",
   "metadata": {},
   "outputs": [],
   "source": [
    "def tpr_fpr(matrix):\n",
    "    fpr = matrix[1][0]/(matrix[0][0]+matrix[1][0])*100\n",
    "    tpr = matrix[1][1]/(matrix[0][1]+matrix[1][1])*100\n",
    "    return [round(tpr,2),round(fpr,2)]"
   ]
  },
  {
   "cell_type": "code",
   "execution_count": 69,
   "id": "2271e5b6",
   "metadata": {},
   "outputs": [
    {
     "data": {
      "text/html": [
       "<div>\n",
       "<style scoped>\n",
       "    .dataframe tbody tr th:only-of-type {\n",
       "        vertical-align: middle;\n",
       "    }\n",
       "\n",
       "    .dataframe tbody tr th {\n",
       "        vertical-align: top;\n",
       "    }\n",
       "\n",
       "    .dataframe thead th {\n",
       "        text-align: right;\n",
       "    }\n",
       "</style>\n",
       "<table border=\"1\" class=\"dataframe\">\n",
       "  <thead>\n",
       "    <tr style=\"text-align: right;\">\n",
       "      <th></th>\n",
       "      <th>RFC</th>\n",
       "      <th>DTC</th>\n",
       "      <th>GNB</th>\n",
       "    </tr>\n",
       "  </thead>\n",
       "  <tbody>\n",
       "    <tr>\n",
       "      <th>x</th>\n",
       "      <td>55.56</td>\n",
       "      <td>75.00</td>\n",
       "      <td>57.14</td>\n",
       "    </tr>\n",
       "    <tr>\n",
       "      <th>y</th>\n",
       "      <td>33.33</td>\n",
       "      <td>36.36</td>\n",
       "      <td>37.50</td>\n",
       "    </tr>\n",
       "  </tbody>\n",
       "</table>\n",
       "</div>"
      ],
      "text/plain": [
       "     RFC    DTC    GNB\n",
       "x  55.56  75.00  57.14\n",
       "y  33.33  36.36  37.50"
      ]
     },
     "execution_count": 69,
     "metadata": {},
     "output_type": "execute_result"
    }
   ],
   "source": [
    "dd = pd.DataFrame(np.zeros(3*2).reshape(2,3),columns = [\"RFC\",\"DTC\",\"GNB\"],index = [\"x\",\"y\"])\n",
    "dd[\"RFC\"] = tpr_fpr(rfc_cm)\n",
    "dd[\"DTC\"] = tpr_fpr(dtc_cm)\n",
    "dd[\"GNB\"] = tpr_fpr(gnb_cm)\n",
    "dd"
   ]
  },
  {
   "cell_type": "markdown",
   "id": "f92d4c1f",
   "metadata": {},
   "source": [
    "Basit bir plot çizdirerek farklı modellerin tpr ve fpr değerlerine bağlı olarak hangi konumda olduklarını görelim."
   ]
  },
  {
   "cell_type": "code",
   "execution_count": 74,
   "id": "a3c9a25f",
   "metadata": {
    "scrolled": true
   },
   "outputs": [
    {
     "data": {
      "image/png": "[encoded data removed]",
      "text/plain": [
       "<Figure size 432x288 with 1 Axes>"
      ]
     },
     "metadata": {
      "needs_background": "light"
     },
     "output_type": "display_data"
    }
   ],
   "source": [
    "plt.scatter(dd.loc[\"y\"],dd.loc[\"x\"],color=\"red\",s = (30*0.3)**2,alpha=0.5)\n",
    "plt.plot((0,100),(0,100))\n",
    "plt.xlabel(\"False Positive Rate\")\n",
    "plt.ylabel(\"True Positive Rate\")\n",
    "for i in dd.columns:\n",
    "    plt.annotate(f\"{i}\", (dd[i][\"y\"]-3,(dd[i][\"x\"]+5)),)\n",
    "plt.grid(True)\n",
    "plt.savefig(\"plt1.png\")"
   ]
  },
  {
   "cell_type": "markdown",
   "id": "34e613b4",
   "metadata": {},
   "source": [
    "0 noktasından başlayan doğrumuz eşik olarak kabul edilebilir. Modellerin doğrunun altına inmesi model performansının tekrar değerlendirilmesi ve düzeltilmesi gerektiği yorumu yapılabilir."
   ]
  },
  {
   "cell_type": "code",
   "execution_count": 140,
   "id": "9860cb26",
   "metadata": {
    "scrolled": true
   },
   "outputs": [],
   "source": [
    "# import random\n",
    "# c = [\"e\",\"k\"]\n",
    "# a = [\"var\",\"yok\"]\n",
    "# s = [\"var\",\"yok\"]\n",
    "# r = [\"var\",\"yok\"]\n",
    "# k = [\"evet\",\"hayır\"]\n",
    "#  data = pd.DataFrame(np.zeros(6*50).reshape(50,6),columns= [\"Cinsiyet\",\"Yaş\",\"Alkol\",\"Sigara\",\"Radyasyon\",\"Kanser\"])\n",
    "# l = []\n",
    "# while len(l)<50:\n",
    "#     l.append(k[random.randint(0,1)])\n",
    "# data[\"Kanser\"] = l\n",
    "# data.to_csv(\"kanser.csv\")"
   ]
  },
  {
   "cell_type": "code",
   "execution_count": 29,
   "id": "0b947bf6",
   "metadata": {},
   "outputs": [],
   "source": [
    "# 0  = e ve  = k\n",
    "def Confusion_Matrix(y_test,y_pred):\n",
    "    sonuc = pd.DataFrame(y_pred,columns=[f\"{y_test.columns[0]} (tahmin)\"])\n",
    "    sonuc[f\"{y_test.columns[0]} (gercek)\"] = y_test.values\n",
    "    sonuc[\"toplam\"] = sonuc[f\"{y_test.columns[0]} (tahmin)\"]+sonuc[f\"{y_test.columns[0]} (gercek)\"]\n",
    "    sonuc[\"fark\"] = sonuc[f\"{y_test.columns[0]} (tahmin)\"]-sonuc[f\"{y_test.columns[0]} (gercek)\"]\n",
    "    tp  = sonuc.query(\"toplam == 2\").count()[0]\n",
    "    tn = sonuc.query(\"toplam == 0\").count()[0]\n",
    "    fp = sonuc.query(\"fark == -1\").count()[0]\n",
    "    fn = sonuc.query(\"fark == 1\").count()[0]\n",
    "    matrix = np.array([tn,fn,fp,tp]).reshape(2,2)\n",
    "    acc = round((tp+tn)/sonuc.shape[0],3)\n",
    "    precision = round(tp/(tp+fp),3)\n",
    "    recall_sensitivity = round(tp/(tp+fn),3)\n",
    "    specificity = round(tn/(tn+fp),3)\n",
    "    f1_score = round(2*((precision*recall_sensitivity)/(precision*2)),3)\n",
    "    false_pos_rate = 1-specificity\n",
    "    print(f\"acc: {acc}\\nprecision: {precision}\\nrecall: {recall_sensitivity}\\nspecificity: {specificity}\\nf1 score: {f1_score}\\nFPR: {false_pos_rate}\")\n",
    "    return matrix"
   ]
  }
 ],
 "metadata": {
  "kernelspec": {
   "display_name": "Python 3",
   "language": "python",
   "name": "python3"
  },
  "language_info": {
   "codemirror_mode": {
    "name": "ipython",
    "version": 3
   },
   "file_extension": ".py",
   "mimetype": "text/x-python",
   "name": "python",
   "nbconvert_exporter": "python",
   "pygments_lexer": "ipython3",
   "version": "3.8.8"
  }
 },
 "nbformat": 4,
 "nbformat_minor": 5
}
