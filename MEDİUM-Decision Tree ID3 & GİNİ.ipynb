{
 "cells": [
  {
   "cell_type": "code",
   "execution_count": 1,
   "id": "f815ab0c",
   "metadata": {},
   "outputs": [],
   "source": [
    "import numpy as np\n",
    "import pandas as pd"
   ]
  },
  {
   "cell_type": "markdown",
   "id": "fdeb40c0",
   "metadata": {},
   "source": [
    "###  ID3 ( Entropy)"
   ]
  },
  {
   "cell_type": "code",
   "execution_count": null,
   "id": "400431f1",
   "metadata": {},
   "outputs": [],
   "source": [
    "#     a1 = data[hedef].value_counts()[0]/len(data[hedef])\n",
    "#     a2 = data[hedef].value_counts()[1]/len(data[hedef])"
   ]
  },
  {
   "cell_type": "code",
   "execution_count": 2,
   "id": "244ee636",
   "metadata": {
    "scrolled": true
   },
   "outputs": [
    {
     "data": {
      "text/html": [
       "<div>\n",
       "<style scoped>\n",
       "    .dataframe tbody tr th:only-of-type {\n",
       "        vertical-align: middle;\n",
       "    }\n",
       "\n",
       "    .dataframe tbody tr th {\n",
       "        vertical-align: top;\n",
       "    }\n",
       "\n",
       "    .dataframe thead th {\n",
       "        text-align: right;\n",
       "    }\n",
       "</style>\n",
       "<table border=\"1\" class=\"dataframe\">\n",
       "  <thead>\n",
       "    <tr style=\"text-align: right;\">\n",
       "      <th></th>\n",
       "      <th>Cinsiyet</th>\n",
       "      <th>Yaş</th>\n",
       "      <th>Sigara</th>\n",
       "      <th>Maske</th>\n",
       "      <th>Sonuc</th>\n",
       "    </tr>\n",
       "  </thead>\n",
       "  <tbody>\n",
       "    <tr>\n",
       "      <th>0</th>\n",
       "      <td>Kadın</td>\n",
       "      <td>29</td>\n",
       "      <td>Hayır</td>\n",
       "      <td>Yok</td>\n",
       "      <td>negatif</td>\n",
       "    </tr>\n",
       "    <tr>\n",
       "      <th>1</th>\n",
       "      <td>Erkek</td>\n",
       "      <td>71</td>\n",
       "      <td>Hayır</td>\n",
       "      <td>Yok</td>\n",
       "      <td>pozitif</td>\n",
       "    </tr>\n",
       "    <tr>\n",
       "      <th>2</th>\n",
       "      <td>Erkek</td>\n",
       "      <td>39</td>\n",
       "      <td>Hayır</td>\n",
       "      <td>Yok</td>\n",
       "      <td>negatif</td>\n",
       "    </tr>\n",
       "    <tr>\n",
       "      <th>3</th>\n",
       "      <td>Kadın</td>\n",
       "      <td>24</td>\n",
       "      <td>Evet</td>\n",
       "      <td>Yok</td>\n",
       "      <td>pozitif</td>\n",
       "    </tr>\n",
       "    <tr>\n",
       "      <th>4</th>\n",
       "      <td>Erkek</td>\n",
       "      <td>32</td>\n",
       "      <td>Evet</td>\n",
       "      <td>Yok</td>\n",
       "      <td>negatif</td>\n",
       "    </tr>\n",
       "  </tbody>\n",
       "</table>\n",
       "</div>"
      ],
      "text/plain": [
       "  Cinsiyet  Yaş Sigara Maske    Sonuc\n",
       "0    Kadın   29  Hayır   Yok  negatif\n",
       "1    Erkek   71  Hayır   Yok  pozitif\n",
       "2    Erkek   39  Hayır   Yok  negatif\n",
       "3    Kadın   24   Evet   Yok  pozitif\n",
       "4    Erkek   32   Evet   Yok  negatif"
      ]
     },
     "execution_count": 2,
     "metadata": {},
     "output_type": "execute_result"
    }
   ],
   "source": [
    "data = pd.read_csv(\"covid_naive_bayes.csv\")\n",
    "# data.drop(\"Unnamed: 0\",axis=1,inplace=True)\n",
    "data.head()"
   ]
  },
  {
   "cell_type": "code",
   "execution_count": 95,
   "id": "344872e5",
   "metadata": {},
   "outputs": [
    {
     "data": {
      "text/plain": [
       "0.6"
      ]
     },
     "execution_count": 95,
     "metadata": {},
     "output_type": "execute_result"
    }
   ],
   "source": [
    "data[\"Sonuc\"].value_counts()[0]/len(data.Sonuc)"
   ]
  },
  {
   "cell_type": "code",
   "execution_count": 76,
   "id": "859dd500",
   "metadata": {},
   "outputs": [
    {
     "data": {
      "text/plain": [
       "'Kadın'"
      ]
     },
     "execution_count": 76,
     "metadata": {},
     "output_type": "execute_result"
    }
   ],
   "source": [
    "data[\"Cinsiyet\"].unique()[0]"
   ]
  },
  {
   "cell_type": "code",
   "execution_count": 86,
   "id": "61133880",
   "metadata": {},
   "outputs": [
    {
     "name": "stdout",
     "output_type": "stream",
     "text": [
      "         Cinsiyet  Yaş  Sigara  Maske  Sonuc\n",
      "Sonuc                                       \n",
      "negatif         5    5       5      5      5\n",
      "pozitif         5    5       5      5      5\n",
      "         Cinsiyet  Yaş  Sigara  Maske  Sonuc\n",
      "Sonuc                                       \n",
      "negatif        13   13      13     13     13\n",
      "pozitif         7    7       7      7      7\n"
     ]
    }
   ],
   "source": [
    "for i in range(len(data[\"Cinsiyet\"].unique())):\n",
    "    pivot = data.groupby(['Sonuc']).apply(lambda x: x[x['Cinsiyet'] == data[\"Cinsiyet\"].unique()[i] ].count())\n",
    "    pi = pivot.Sonuc.pozitif\n",
    "    ni = pivot.Sonuc.negatif\n",
    "    print(pivot)"
   ]
  },
  {
   "cell_type": "code",
   "execution_count": 3,
   "id": "58ed9b5b",
   "metadata": {
    "scrolled": true
   },
   "outputs": [
    {
     "name": "stdout",
     "output_type": "stream",
     "text": [
      "Gain(Sigara):  0.02\n"
     ]
    }
   ],
   "source": [
    "def Info_D(pi,ni):\n",
    "    if pi*ni == 0:\n",
    "        result =0\n",
    "    else:\n",
    "        a1,a2 = pi/(pi+ni),ni/(pi+ni)\n",
    "        result=a1*np.log2(a1)+a2*np.log2(a2)\n",
    "    return round(-1*result,3)\n",
    "def Info_Attribute_D(data,target,column):\n",
    "    total = 0\n",
    "    for i in range(len(data[column].unique())):\n",
    "        pivot = data.groupby([target]).apply(lambda y: y[y[column] == data[column].unique()[i] ].count())\n",
    "        pi = pivot[column][0]\n",
    "        ni = pivot[column][1]\n",
    "        total += ((pi+ni)/len(data[target]))*Info_D(pi,ni)\n",
    "    data[target]\n",
    "    # print(f\"Info_{column}_(D) = \",round(total,3))\n",
    "    s1,s2 = data[target].value_counts()[0],data[target].value_counts()[1]\n",
    "    print(f\"Gain({column}): \",round((Info_D(s1,s2)-total),3))\n",
    "Info_Attribute_D(data,\"Sonuc\",\"Sigara\")"
   ]
  },
  {
   "cell_type": "code",
   "execution_count": 103,
   "id": "c8e552c7",
   "metadata": {
    "scrolled": true
   },
   "outputs": [
    {
     "name": "stdout",
     "output_type": "stream",
     "text": [
      "Gain(credit_rating):  0.048\n",
      "Gain(age):  0.246\n",
      "Gain(income):  0.029\n",
      "Gain(student):  0.151\n"
     ]
    }
   ],
   "source": [
    "Info_Attribute_D(d1,\"buys_computer\",\"credit_rating\")\n",
    "Info_Attribute_D(d1,\"buys_computer\",\"age\")\n",
    "Info_Attribute_D(d1,\"buys_computer\",\"income\")\n",
    "Info_Attribute_D(d1,\"buys_computer\",\"student\")"
   ]
  },
  {
   "cell_type": "code",
   "execution_count": 185,
   "id": "78dc6177",
   "metadata": {
    "scrolled": true
   },
   "outputs": [
    {
     "name": "stdout",
     "output_type": "stream",
     "text": [
      "Info_Sigara_(D) =  0.9512\n"
     ]
    }
   ],
   "source": [
    "Info_Attribute_D(data,\"Sonuc\",\"Sigara\")"
   ]
  },
  {
   "cell_type": "code",
   "execution_count": 186,
   "id": "2288d836",
   "metadata": {
    "scrolled": true
   },
   "outputs": [
    {
     "name": "stdout",
     "output_type": "stream",
     "text": [
      "Info_Maske_(D) =  0.9661333333333333\n"
     ]
    }
   ],
   "source": [
    "Info_Attribute_D(data,\"Sonuc\",\"Maske\")"
   ]
  },
  {
   "cell_type": "code",
   "execution_count": 197,
   "id": "82075692",
   "metadata": {},
   "outputs": [],
   "source": [
    "# d1 = pd.DataFrame((np.zeros(70).reshape(14,5)),columns=[\"age\",\"income\",\"student\",\"credit_rating\",\"buys_computer\"])\n",
    "# l = [\"<=30\",\"<=30\",\"31..40\",\">40\",\">40\",\">40\",\"31..40\",\"<=30\",\"<=30\",\">40\",\"<=30\",\"31..40\",\"31..40\",\">40\"]\n",
    "# l = [\"high\",\"high\",\"high\",\"medium\",\"low\",\"low\",\"low\",\"medium\",\"low\",\"medium\",\"medium\",\"medium\",\"high\",\"medium\"]\n",
    "# l = \"no no no no yes yes yes no yes yes yes no yes no\"\n",
    "# l = l.split(\" \")\n",
    "# l = \"fair excellent fair fair fair excellent excellent fair fair fair excellent excellent fair excellent\".split()\n",
    "# l = \"no no yes yes yes no yes no yes yes yes yes yes no\".split()\n",
    "# d1[\"age\"] = l"
   ]
  },
  {
   "cell_type": "code",
   "execution_count": 22,
   "id": "977959fc",
   "metadata": {},
   "outputs": [],
   "source": [
    "d1 = pd.read_csv(\"buys_computer.csv\")"
   ]
  },
  {
   "cell_type": "code",
   "execution_count": 12,
   "id": "2448f3cb",
   "metadata": {
    "collapsed": true
   },
   "outputs": [
    {
     "data": {
      "text/plain": [
       "array(['<=30', '31..40', '>40'], dtype=object)"
      ]
     },
     "execution_count": 12,
     "metadata": {},
     "output_type": "execute_result"
    }
   ],
   "source": [
    "d1[\"age\"].unique()"
   ]
  },
  {
   "cell_type": "code",
   "execution_count": 71,
   "id": "df974e43",
   "metadata": {},
   "outputs": [
    {
     "data": {
      "text/plain": [
       "0.029"
      ]
     },
     "execution_count": 71,
     "metadata": {},
     "output_type": "execute_result"
    }
   ],
   "source": [
    "round(0.940-0.911,3)"
   ]
  },
  {
   "cell_type": "markdown",
   "id": "b272e7c6",
   "metadata": {},
   "source": [
    "###  CART  (GİNİ)"
   ]
  },
  {
   "cell_type": "code",
   "execution_count": 2,
   "id": "4d0a4a1f",
   "metadata": {
    "scrolled": true
   },
   "outputs": [
    {
     "data": {
      "text/html": [
       "<div>\n",
       "<style scoped>\n",
       "    .dataframe tbody tr th:only-of-type {\n",
       "        vertical-align: middle;\n",
       "    }\n",
       "\n",
       "    .dataframe tbody tr th {\n",
       "        vertical-align: top;\n",
       "    }\n",
       "\n",
       "    .dataframe thead th {\n",
       "        text-align: right;\n",
       "    }\n",
       "</style>\n",
       "<table border=\"1\" class=\"dataframe\">\n",
       "  <thead>\n",
       "    <tr style=\"text-align: right;\">\n",
       "      <th></th>\n",
       "      <th>Outlook</th>\n",
       "      <th>Temp</th>\n",
       "      <th>Humidity</th>\n",
       "      <th>Wind</th>\n",
       "      <th>Decision</th>\n",
       "    </tr>\n",
       "  </thead>\n",
       "  <tbody>\n",
       "    <tr>\n",
       "      <th>0</th>\n",
       "      <td>Sunny</td>\n",
       "      <td>Hot</td>\n",
       "      <td>High</td>\n",
       "      <td>Weak</td>\n",
       "      <td>No</td>\n",
       "    </tr>\n",
       "    <tr>\n",
       "      <th>1</th>\n",
       "      <td>Sunny</td>\n",
       "      <td>Hot</td>\n",
       "      <td>High</td>\n",
       "      <td>Strong</td>\n",
       "      <td>No</td>\n",
       "    </tr>\n",
       "    <tr>\n",
       "      <th>2</th>\n",
       "      <td>Overcast</td>\n",
       "      <td>Hot</td>\n",
       "      <td>High</td>\n",
       "      <td>Weak</td>\n",
       "      <td>Yes</td>\n",
       "    </tr>\n",
       "  </tbody>\n",
       "</table>\n",
       "</div>"
      ],
      "text/plain": [
       "    Outlook Temp Humidity    Wind Decision\n",
       "0     Sunny  Hot     High    Weak       No\n",
       "1     Sunny  Hot     High  Strong       No\n",
       "2  Overcast  Hot     High    Weak      Yes"
      ]
     },
     "execution_count": 2,
     "metadata": {},
     "output_type": "execute_result"
    }
   ],
   "source": [
    "sk = pd.read_csv(\"play_golf.csv\")\n",
    "sk.head(3)"
   ]
  },
  {
   "cell_type": "code",
   "execution_count": 74,
   "id": "7a228d8d",
   "metadata": {},
   "outputs": [],
   "source": [
    "def gini(data,target,column):\n",
    "    total = 0\n",
    "    if len(data[target].unique()) <2:\n",
    "        return total\n",
    "    else:\n",
    "        for i in range(len(data[column].unique())):\n",
    "            pivot = data.groupby([target]).apply(lambda y: y[y[column] == data[column].unique()[i] ].count())\n",
    "            pi,ni = pivot[column][0],pivot[column][1]\n",
    "            g = 1-pow(pi/(pi+ni),2)-pow(ni/(pi+ni),2)\n",
    "            total += (pi+ni)/len(data[target])*g\n",
    "    return round(total,3)\n",
    "\n",
    "def main(data,target,column):\n",
    "    ginis = {}\n",
    "    tree = {}\n",
    "    tree[column] = list(data[column].unique())\n",
    "    new_data = data.drop(target,axis=1)\n",
    "    new_cols = list(new_data.columns)\n",
    "    child = tree[column]\n",
    "    new_cols.remove(column)\n",
    "    for k in child:\n",
    "        data1 = data[data[f\"{column}\"]== f\"{k}\"]\n",
    "        for i in new_cols:\n",
    "            result = gini(data1,target,i)\n",
    "            ginis[i] = result\n",
    "            if result == 0 and type(result) == int:\n",
    "                tree[k] = data1[target].unique()[0]\n",
    "            else:\n",
    "                build_tree(data,ginis,k,tree)\n",
    "        if tree[k] == data[target].unique()[0] or tree[k] == data[target].unique()[1]:\n",
    "            pass\n",
    "        else:\n",
    "            for z in data1[tree[k]].unique():\n",
    "                result2= gini(data1[data1[tree[k]]== f\"{z}\"],target,tree[k])\n",
    "                if result2 == 0 and type(result2) == int:\n",
    "                    tree[z] = data1[data1[tree[k]]== f\"{z}\"][target].unique()[0]\n",
    "                else:\n",
    "                    build_tree(data,ginis,z,tree)\n",
    "        print(\"ginis:\",ginis)\n",
    "    return tree\n",
    "def build_tree(data,ginis,k,tree):\n",
    "    key = sorted(ginis.items(),key= lambda x: x[1])[0][0]\n",
    "    value = list(data[key].unique())\n",
    "    tree[k] = key\n",
    "    \n",
    "def root(data,target):\n",
    "    ginis = {}\n",
    "    new_data = data.drop(target,axis=1)\n",
    "    for i in new_data.columns:\n",
    "        ginis[i] = gini(data,i,target)\n",
    "    column = sorted(ginis.items(),key= lambda x: x[1])[0][0]\n",
    "    return column"
   ]
  },
  {
   "cell_type": "markdown",
   "id": "e4f6eeb5",
   "metadata": {},
   "source": [
    "<p style=\"color: red; font-size:17px;\">root fonskiyonu datayı ve target alarak kök düğümü bulur. gini fonksiyonu cart algoritmasında kullanılan gini metriğini hesaplar ve yuvarlayarka return eder. main fonksiyonu ise root fonksiyonundan kök düğümü alır ve yavruları ile ağaca ekler. Daha sonra yavrular üzerinde gezinerek bulunan düğüm hariç diğer düğümlerin gini değerleri hesaplanır  ve bu gini değerleri tree ile  build_tree fonksiyonuna gönderilir. build_tree bu gini değelerini sıralar ve en küçük gini değerini ağaca ekler.\n",
    "</p>"
   ]
  },
  {
   "cell_type": "code",
   "execution_count": 49,
   "id": "5c0b906a",
   "metadata": {},
   "outputs": [],
   "source": [
    "tel = pd.read_csv(\"buys_computer.csv\")"
   ]
  },
  {
   "cell_type": "code",
   "execution_count": 75,
   "id": "1f2d4c0a",
   "metadata": {},
   "outputs": [
    {
     "name": "stdout",
     "output_type": "stream",
     "text": [
      "ginis: {'income': 0.2, 'student': 0.0, 'credit_rating': 0.467}\n",
      "ginis: {'income': 0, 'student': 0, 'credit_rating': 0}\n",
      "ginis: {'income': 0.467, 'student': 0.467, 'credit_rating': 0.0}\n"
     ]
    },
    {
     "data": {
      "text/plain": [
       "{'age': ['<=30', '31..40', '>40'],\n",
       " '<=30': 'student',\n",
       " 'no': 'no',\n",
       " 'yes': 'yes',\n",
       " '31..40': 'yes',\n",
       " '>40': 'credit_rating',\n",
       " 'fair': 'yes',\n",
       " 'excellent': 'no'}"
      ]
     },
     "execution_count": 75,
     "metadata": {},
     "output_type": "execute_result"
    }
   ],
   "source": [
    "main(tel,\"buys_computer\",root(tel,\"buys_computer\"))"
   ]
  },
  {
   "cell_type": "code",
   "execution_count": 76,
   "id": "7e15c339",
   "metadata": {},
   "outputs": [
    {
     "name": "stdout",
     "output_type": "stream",
     "text": [
      "ginis: {'Temp': 0.2, 'Humidity': 0.0, 'Wind': 0.467}\n",
      "ginis: {'Temp': 0, 'Humidity': 0, 'Wind': 0}\n",
      "ginis: {'Temp': 0.467, 'Humidity': 0.467, 'Wind': 0.0}\n"
     ]
    },
    {
     "data": {
      "text/plain": [
       "{'Outlook': ['Sunny', 'Overcast', 'Rain'],\n",
       " 'Sunny': 'Humidity',\n",
       " 'High': 'No',\n",
       " 'Normal': 'Yes',\n",
       " 'Overcast': 'Yes',\n",
       " 'Rain': 'Wind',\n",
       " 'Weak': 'Yes',\n",
       " 'Strong': 'No'}"
      ]
     },
     "execution_count": 76,
     "metadata": {},
     "output_type": "execute_result"
    }
   ],
   "source": [
    "main(sk,\"Decision\",root(sk,\"Decision\"))"
   ]
  },
  {
   "cell_type": "code",
   "execution_count": 72,
   "id": "ddd37b71",
   "metadata": {},
   "outputs": [
    {
     "name": "stdout",
     "output_type": "stream",
     "text": [
      "ginis: {'Temp': 0.2, 'Humidity': 0.0, 'Wind': 0.467}\n",
      "ginis: {'Temp': 0, 'Humidity': 0, 'Wind': 0}\n",
      "ginis: {'Temp': 0.467, 'Humidity': 0.467, 'Wind': 0.0}\n"
     ]
    },
    {
     "data": {
      "text/plain": [
       "{'Outlook': ['Sunny', 'Overcast', 'Rain'],\n",
       " 'Sunny': 'Humidity',\n",
       " 'High': 'No',\n",
       " 'Normal': 'Yes',\n",
       " 'Overcast': 'Yes',\n",
       " 'Rain': 'Wind',\n",
       " 'Weak': 'Yes',\n",
       " 'Strong': 'No'}"
      ]
     },
     "execution_count": 72,
     "metadata": {},
     "output_type": "execute_result"
    }
   ],
   "source": [
    "main(sk,\"Decision\",root(sk,\"Decision\"))"
   ]
  },
  {
   "cell_type": "code",
   "execution_count": 298,
   "id": "7becf01f",
   "metadata": {},
   "outputs": [
    {
     "data": {
      "text/html": [
       "<div>\n",
       "<style scoped>\n",
       "    .dataframe tbody tr th:only-of-type {\n",
       "        vertical-align: middle;\n",
       "    }\n",
       "\n",
       "    .dataframe tbody tr th {\n",
       "        vertical-align: top;\n",
       "    }\n",
       "\n",
       "    .dataframe thead th {\n",
       "        text-align: right;\n",
       "    }\n",
       "</style>\n",
       "<table border=\"1\" class=\"dataframe\">\n",
       "  <thead>\n",
       "    <tr style=\"text-align: right;\">\n",
       "      <th></th>\n",
       "      <th>Outlook</th>\n",
       "      <th>Temp</th>\n",
       "      <th>Humidity</th>\n",
       "      <th>Wind</th>\n",
       "      <th>Decision</th>\n",
       "    </tr>\n",
       "  </thead>\n",
       "  <tbody>\n",
       "    <tr>\n",
       "      <th>0</th>\n",
       "      <td>Sunny</td>\n",
       "      <td>Hot</td>\n",
       "      <td>High</td>\n",
       "      <td>Weak</td>\n",
       "      <td>No</td>\n",
       "    </tr>\n",
       "    <tr>\n",
       "      <th>1</th>\n",
       "      <td>Sunny</td>\n",
       "      <td>Hot</td>\n",
       "      <td>High</td>\n",
       "      <td>Strong</td>\n",
       "      <td>No</td>\n",
       "    </tr>\n",
       "    <tr>\n",
       "      <th>7</th>\n",
       "      <td>Sunny</td>\n",
       "      <td>Mild</td>\n",
       "      <td>High</td>\n",
       "      <td>Weak</td>\n",
       "      <td>No</td>\n",
       "    </tr>\n",
       "  </tbody>\n",
       "</table>\n",
       "</div>"
      ],
      "text/plain": [
       "  Outlook  Temp Humidity    Wind Decision\n",
       "0   Sunny   Hot     High    Weak       No\n",
       "1   Sunny   Hot     High  Strong       No\n",
       "7   Sunny  Mild     High    Weak       No"
      ]
     },
     "execution_count": 298,
     "metadata": {},
     "output_type": "execute_result"
    }
   ],
   "source": [
    "kale = sk[sk[\"Outlook\"]==\"Sunny\"]\n",
    "# kale[kale[\"Outlook\"] == \"Sunny\"]\n",
    "kale[kale[\"Humidity\"] == \"High\"]"
   ]
  },
  {
   "cell_type": "code",
   "execution_count": 36,
   "id": "fce6e475",
   "metadata": {},
   "outputs": [
    {
     "name": "stdout",
     "output_type": "stream",
     "text": [
      "[['deneme', 'ali'], ['kale']]\n",
      "[['ali'], ['kale']]\n",
      "[[], ['kale']]\n",
      "2\n"
     ]
    }
   ],
   "source": [
    "denem = []\n",
    "denem.append([\"deneme\",\"ali\"])\n",
    "denem.append([\"kale\"])\n",
    "print(denem)\n",
    "denem[0].remove(\"deneme\")\n",
    "print(denem)\n",
    "denem[0].remove(\"ali\")\n",
    "print(denem)\n",
    "print(len(denem))"
   ]
  },
  {
   "cell_type": "code",
   "execution_count": 59,
   "id": "52e7d7bd",
   "metadata": {},
   "outputs": [],
   "source": [
    "# def gini(data,target,column):\n",
    "#     total = 0\n",
    "#     if len(data[target].unique()) <2:\n",
    "#         return total\n",
    "#     else:\n",
    "#         for i in range(len(data[column].unique())):\n",
    "#             pivot = data.groupby([target]).apply(lambda y: y[y[column] == data[column].unique()[i] ].count())\n",
    "#             pi,ni = pivot[column][0],pivot[column][1]\n",
    "#             if pi*ni == 0:\n",
    "#                 pass\n",
    "#             g = 1-pow(pi/(pi+ni),2)-pow(ni/(pi+ni),2)\n",
    "#             total += (pi+ni)/len(data[target])*g\n",
    "#     return round(total,3)\n",
    "\n",
    "# def main(data,target,column):\n",
    "#     ginis = {}\n",
    "#     q = []\n",
    "#     tree = {}\n",
    "#     tree[column] = list(data[column].unique())\n",
    "#     q.append(list(tree.keys()))\n",
    "#     new_data = data.drop(target,axis=1)\n",
    "#     new_cols = list(new_data.columns)\n",
    "#     for c in q[0]:\n",
    "#         child = tree[c]\n",
    "#         q.append(child)\n",
    "#         new_cols.remove(c)\n",
    "#         for k in child:\n",
    "#             data1 = data[data[f\"{c}\"]== f\"{k}\"]\n",
    "#             for i in new_cols:\n",
    "#                 result = gini(data1,target,i)\n",
    "#                 ginis[i] = result\n",
    "#                 if result == 0 and type(result) == int:\n",
    "#                     tree[k] = data1[target].unique()[0]\n",
    "#                 else:\n",
    "#                     build_tree(data,ginis,k,tree)\n",
    "#             if tree[k] == data[target].unique()[0] or tree[k] == data[target].unique()[1]:\n",
    "#                 pass\n",
    "#             else:\n",
    "#                 for z in data1[tree[k]].unique():\n",
    "#                     result2= gini(data1[data1[tree[k]]== f\"{z}\"],target,tree[k])\n",
    "#                     if result2 == 0 and type(result2) == int:\n",
    "#                         tree[z] = data1[data1[tree[k]]== f\"{z}\"][target].unique()[0]\n",
    "#                     else:\n",
    "#                         build_tree(data,ginis,z,tree)\n",
    "#             print(\"ginis:\",ginis)\n",
    "#         print(\"q: \",q)\n",
    "#         q[0].remove(c)\n",
    "#         print(\"q: \",q)\n",
    "#     return tree\n",
    "# def build_tree(data,ginis,k,tree):\n",
    "#     key = sorted(ginis.items(),key= lambda x: x[1])[0][0]\n",
    "#     value = list(data[key].unique())\n",
    "#     tree[k] = key\n",
    "    \n",
    "# def root(data,target):\n",
    "#     ginis = {}\n",
    "#     new_data = data.drop(target,axis=1)\n",
    "#     for i in new_data.columns:\n",
    "#         ginis[i] = gini(data,i,target)\n",
    "#     column = sorted(ginis.items(),key= lambda x: x[1])[0][0]\n",
    "#     return column"
   ]
  }
 ],
 "metadata": {
  "kernelspec": {
   "display_name": "Python 3",
   "language": "python",
   "name": "python3"
  },
  "language_info": {
   "codemirror_mode": {
    "name": "ipython",
    "version": 3
   },
   "file_extension": ".py",
   "mimetype": "text/x-python",
   "name": "python",
   "nbconvert_exporter": "python",
   "pygments_lexer": "ipython3",
   "version": "3.8.8"
  }
 },
 "nbformat": 4,
 "nbformat_minor": 5
}
