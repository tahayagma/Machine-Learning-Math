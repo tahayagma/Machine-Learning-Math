{
 "cells": [
  {
   "cell_type": "code",
   "execution_count": 18,
   "id": "6779b952",
   "metadata": {},
   "outputs": [],
   "source": [
    "import pandas as pd\n",
    "import numpy as np\n",
    "import random"
   ]
  },
  {
   "cell_type": "code",
   "execution_count": 36,
   "id": "e0fb1cc2",
   "metadata": {},
   "outputs": [],
   "source": [
    "# data = pd.DataFrame(np.zeros(5*30).reshape(30,5),columns = [\"Cinsiyet\",\"Yaş\",\"Sigara\",\"Maske\",\"Sonuc\"])\n",
    "# counter = 0\n",
    "# l= []\n",
    "# while counter <30:\n",
    "#     l.append(random.randint(18,100))\n",
    "#     counter +=1\n",
    "# data[\"Yaş\"] = l\n",
    "# data.to_csv(\"covid_naive_bayes.csv\")\n",
    "# data.drop(\"Unnamed: 0\",axis=1,inplace = True)"
   ]
  },
  {
   "cell_type": "code",
   "execution_count": 8,
   "id": "328a9003",
   "metadata": {
    "scrolled": true
   },
   "outputs": [
    {
     "data": {
      "text/html": [
       "<div>\n",
       "<style scoped>\n",
       "    .dataframe tbody tr th:only-of-type {\n",
       "        vertical-align: middle;\n",
       "    }\n",
       "\n",
       "    .dataframe tbody tr th {\n",
       "        vertical-align: top;\n",
       "    }\n",
       "\n",
       "    .dataframe thead th {\n",
       "        text-align: right;\n",
       "    }\n",
       "</style>\n",
       "<table border=\"1\" class=\"dataframe\">\n",
       "  <thead>\n",
       "    <tr style=\"text-align: right;\">\n",
       "      <th></th>\n",
       "      <th>Cinsiyet</th>\n",
       "      <th>Yaş</th>\n",
       "      <th>Sigara</th>\n",
       "      <th>Maske</th>\n",
       "      <th>Sonuc</th>\n",
       "    </tr>\n",
       "  </thead>\n",
       "  <tbody>\n",
       "    <tr>\n",
       "      <th>0</th>\n",
       "      <td>Kadın</td>\n",
       "      <td>29</td>\n",
       "      <td>Hayır</td>\n",
       "      <td>Yok</td>\n",
       "      <td>negatif</td>\n",
       "    </tr>\n",
       "    <tr>\n",
       "      <th>1</th>\n",
       "      <td>Erkek</td>\n",
       "      <td>71</td>\n",
       "      <td>Hayır</td>\n",
       "      <td>Yok</td>\n",
       "      <td>pozitif</td>\n",
       "    </tr>\n",
       "    <tr>\n",
       "      <th>2</th>\n",
       "      <td>Erkek</td>\n",
       "      <td>39</td>\n",
       "      <td>Hayır</td>\n",
       "      <td>Yok</td>\n",
       "      <td>negatif</td>\n",
       "    </tr>\n",
       "    <tr>\n",
       "      <th>3</th>\n",
       "      <td>Kadın</td>\n",
       "      <td>24</td>\n",
       "      <td>Evet</td>\n",
       "      <td>Yok</td>\n",
       "      <td>pozitif</td>\n",
       "    </tr>\n",
       "    <tr>\n",
       "      <th>4</th>\n",
       "      <td>Erkek</td>\n",
       "      <td>32</td>\n",
       "      <td>Evet</td>\n",
       "      <td>Yok</td>\n",
       "      <td>negatif</td>\n",
       "    </tr>\n",
       "  </tbody>\n",
       "</table>\n",
       "</div>"
      ],
      "text/plain": [
       "  Cinsiyet  Yaş Sigara Maske    Sonuc\n",
       "0    Kadın   29  Hayır   Yok  negatif\n",
       "1    Erkek   71  Hayır   Yok  pozitif\n",
       "2    Erkek   39  Hayır   Yok  negatif\n",
       "3    Kadın   24   Evet   Yok  pozitif\n",
       "4    Erkek   32   Evet   Yok  negatif"
      ]
     },
     "execution_count": 8,
     "metadata": {},
     "output_type": "execute_result"
    }
   ],
   "source": [
    "import pandas as pd \n",
    "data  = pd.read_csv(\"covid_naive_bayes.csv\")\n",
    "data.drop(\"Unnamed: 0\",axis=1,inplace = True)\n",
    "data.head()"
   ]
  },
  {
   "cell_type": "code",
   "execution_count": 55,
   "id": "586a23ea",
   "metadata": {},
   "outputs": [],
   "source": [
    "def categorical_encoder(data,column_name):\n",
    "    data[column_name].replace({data[column_name].unique()[0]:0,data[column_name].unique()[1]:1},inplace=True)\n",
    "    return data"
   ]
  },
  {
   "cell_type": "code",
   "execution_count": 60,
   "id": "b6ba8bf8",
   "metadata": {},
   "outputs": [],
   "source": [
    "# categorical_encoder(data,\"Sonuc\") # 0 = negatif 1= pozitif\n",
    "# categorical_encoder(data,\"Cinsiyet\") # 0 = kadın 1 = erkek\n",
    "# categorical_encoder(data,\"Maske\") # 0 = yok 1 = var\n",
    "# categorical_encoder(data,\"Sigara\") # 0 = hayır 1 = evet\n",
    "# data.head()"
   ]
  },
  {
   "cell_type": "code",
   "execution_count": 208,
   "id": "0506f347",
   "metadata": {
    "scrolled": true
   },
   "outputs": [
    {
     "name": "stdout",
     "output_type": "stream",
     "text": [
      "P(B):\n",
      "\tP(pozitif) = 12/30 = 0.4\n",
      "\tP(negatif) = 18/30 = 0.6\n"
     ]
    }
   ],
   "source": [
    "negatif = data[\"Sonuc\"].value_counts().negatif # toplam negatifler\n",
    "pozitif = data[\"Sonuc\"].value_counts().pozitif # toplam pozitifler\n",
    "n = data.Sonuc.count() # Sonucların toplam sayısı\n",
    "P_pozitif = pozitif/n\n",
    "P_negatif = negatif/n\n",
    "print(f\"\"\"P(B):\\n\\tP(pozitif) = {pozitif}/{n} = {P_pozitif}\n",
    "\\tP(negatif) = {negatif}/{n} = {P_negatif}\"\"\")"
   ]
  },
  {
   "cell_type": "code",
   "execution_count": 207,
   "id": "a2112422",
   "metadata": {},
   "outputs": [
    {
     "name": "stdout",
     "output_type": "stream",
     "text": [
      "P(Kadın|pozitif): 10/12 = 0.8333333333333334\n",
      "P(Kadın|negatif) = 10/18 = 0.5555555555555556\n"
     ]
    }
   ],
   "source": [
    "negatif = data[\"Sonuc\"].value_counts().negatif # toplam negatifler\n",
    "pozitif = data[\"Sonuc\"].value_counts().pozitif # toplam pozitifler\n",
    "kadın = data[\"Cinsiyet\"].value_counts().Kadın\n",
    "P_kadın_pozitif = kadın/pozitif\n",
    "P_kadın_negatif = kadın/negatif\n",
    "print(f\"\"\"P(Kadın|pozitif): {kadın}/{pozitif} = {P_kadın_pozitif}\n",
    "P(Kadın|negatif) = {kadın}/{negatif} = {P_kadın_negatif}\"\"\")"
   ]
  },
  {
   "cell_type": "code",
   "execution_count": 202,
   "id": "a7516e0b",
   "metadata": {},
   "outputs": [
    {
     "name": "stdout",
     "output_type": "stream",
     "text": [
      "P(yas='35'|pozitif) = 6/12 = 0.5\n",
      "P(yas='35'|negatif) = 6/18 = 0.3333333333333333\n"
     ]
    }
   ],
   "source": [
    "negatif = data[\"Sonuc\"].value_counts().negatif # toplam negatifler\n",
    "pozitif = data[\"Sonuc\"].value_counts().pozitif # toplam pozitifler\n",
    "yas35 = len(data[data[\"Yaş\"] ==35])\n",
    "P_yas35_pozitif = yas35/pozitif\n",
    "P_yas35_negatif = yas35/negatif\n",
    "print(f\"\"\"P(yas='35'|pozitif) = {yas35}/{pozitif} = {P_yas35_pozitif}\n",
    "P(yas='35'|negatif) = {yas35}/{negatif} = {P_yas35_negatif}\"\"\")"
   ]
  },
  {
   "cell_type": "code",
   "execution_count": 212,
   "id": "416c7bfa",
   "metadata": {},
   "outputs": [
    {
     "name": "stdout",
     "output_type": "stream",
     "text": [
      "P(maske='var'|pozitif) = 16/12 = 1.3333333333333333\n",
      "P(maske='var'|negatif) = 16/18 = 0.8888888888888888\n"
     ]
    }
   ],
   "source": [
    "negatif = data[\"Sonuc\"].value_counts().negatif # toplam negatifler\n",
    "pozitif = data[\"Sonuc\"].value_counts().pozitif # toplam pozitifler\n",
    "maske = data[\"Maske\"].value_counts().Var\n",
    "P_maske_pozitif = maske/pozitif\n",
    "P_maske_negatif = maske/negatif\n",
    "print(f\"\"\"P(maske='var'|pozitif) = {maske}/{pozitif} = {P_maske_pozitif}\n",
    "P(maske='var'|negatif) = {maske}/{negatif} = {P_maske_negatif}\"\"\")"
   ]
  },
  {
   "cell_type": "code",
   "execution_count": 214,
   "id": "4f9e4e8c",
   "metadata": {},
   "outputs": [
    {
     "data": {
      "text/plain": [
       "13"
      ]
     },
     "execution_count": 214,
     "metadata": {},
     "output_type": "execute_result"
    }
   ],
   "source": [
    "data[\"Sigara\"].value_counts().Evet"
   ]
  },
  {
   "cell_type": "code",
   "execution_count": 216,
   "id": "18ffcb20",
   "metadata": {},
   "outputs": [
    {
     "name": "stdout",
     "output_type": "stream",
     "text": [
      "P(sigara='evet'|pozitif) = 13/12 = 1.0833333333333333\n",
      "P(sigara='evet'|negatif) = 13/18 = 0.7222222222222222\n"
     ]
    }
   ],
   "source": [
    "negatif = data[\"Sonuc\"].value_counts().negatif # toplam negatifler\n",
    "pozitif = data[\"Sonuc\"].value_counts().pozitif # toplam pozitifler\n",
    "sigara = data[\"Sigara\"].value_counts().Evet\n",
    "P_si_pozitif = sigara/pozitif\n",
    "P_si_negatif = sigara/negatif\n",
    "print(f\"\"\"P(sigara='evet'|pozitif) = {sigara}/{pozitif} = {P_si_pozitif}\n",
    "P(sigara='evet'|negatif) = {sigara}/{negatif} = {P_si_negatif}\"\"\")"
   ]
  },
  {
   "cell_type": "code",
   "execution_count": null,
   "id": "f0c4b566",
   "metadata": {},
   "outputs": [],
   "source": [
    "P(Kadın|pozitif) x P(yas='35'|pozitif) x P(maske='var'|pozitif)x P(sigara='evet'|pozitif)"
   ]
  },
  {
   "cell_type": "code",
   "execution_count": 232,
   "id": "4b4f931e",
   "metadata": {},
   "outputs": [
    {
     "data": {
      "text/plain": [
       "0.602"
      ]
     },
     "execution_count": 232,
     "metadata": {},
     "output_type": "execute_result"
    }
   ],
   "source": [
    "round(0.8333333333333334*0.5*1.3333333333333333*1.0833333333333333,3)"
   ]
  },
  {
   "cell_type": "code",
   "execution_count": 235,
   "id": "07b5e357",
   "metadata": {},
   "outputs": [
    {
     "data": {
      "text/plain": [
       "0.119"
      ]
     },
     "execution_count": 235,
     "metadata": {},
     "output_type": "execute_result"
    }
   ],
   "source": [
    "round(0.5555555555555556*0.3333333333333333*0.8888888888888888*0.7222222222222222,3)"
   ]
  },
  {
   "cell_type": "code",
   "execution_count": 17,
   "id": "dab4190a",
   "metadata": {},
   "outputs": [
    {
     "name": "stdout",
     "output_type": "stream",
     "text": [
      "poz:  0.241\n"
     ]
    },
    {
     "data": {
      "text/plain": [
       "0.071"
      ]
     },
     "execution_count": 17,
     "metadata": {},
     "output_type": "execute_result"
    }
   ],
   "source": [
    "print(\"poz: \",round(0.602*0.4,3))\n",
    "round(0.119*0.6,3)\n"
   ]
  },
  {
   "cell_type": "code",
   "execution_count": 12,
   "id": "5e1acac9",
   "metadata": {},
   "outputs": [
    {
     "name": "stdout",
     "output_type": "stream",
     "text": [
      "<class 'pandas.core.frame.DataFrame'>\n",
      "RangeIndex: 30 entries, 0 to 29\n",
      "Data columns (total 5 columns):\n",
      " #   Column    Non-Null Count  Dtype \n",
      "---  ------    --------------  ----- \n",
      " 0   Cinsiyet  30 non-null     object\n",
      " 1   Yaş       30 non-null     int64 \n",
      " 2   Sigara    30 non-null     object\n",
      " 3   Maske     30 non-null     object\n",
      " 4   Sonuc     30 non-null     object\n",
      "dtypes: int64(1), object(4)\n",
      "memory usage: 1.3+ KB\n"
     ]
    }
   ],
   "source": [
    "data.info()"
   ]
  }
 ],
 "metadata": {
  "kernelspec": {
   "display_name": "Python 3",
   "language": "python",
   "name": "python3"
  },
  "language_info": {
   "codemirror_mode": {
    "name": "ipython",
    "version": 3
   },
   "file_extension": ".py",
   "mimetype": "text/x-python",
   "name": "python",
   "nbconvert_exporter": "python",
   "pygments_lexer": "ipython3",
   "version": "3.8.8"
  }
 },
 "nbformat": 4,
 "nbformat_minor": 5
}
