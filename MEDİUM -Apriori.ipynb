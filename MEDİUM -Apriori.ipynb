{
 "cells": [
  {
   "cell_type": "code",
   "execution_count": 2,
   "id": "a2376c8c",
   "metadata": {},
   "outputs": [],
   "source": [
    "import pandas as pd\n",
    "import numpy as np\n",
    "from itertools import combinations\n"
   ]
  },
  {
   "cell_type": "code",
   "execution_count": 15,
   "id": "790a8d8f",
   "metadata": {},
   "outputs": [],
   "source": [
    "# data = pd.read_csv(\"sepet.csv\",header= None,names =[\"ürünler\"])\n",
    "# data.shape"
   ]
  },
  {
   "cell_type": "markdown",
   "id": "3ca3e945",
   "metadata": {},
   "source": [
    "# MEDİUM"
   ]
  },
  {
   "cell_type": "code",
   "execution_count": 12,
   "id": "43e4bfb6",
   "metadata": {},
   "outputs": [],
   "source": [
    "# if data not 2D shape this is funciton convert to 2-dimensional type\n",
    "def to_2D(data):\n",
    "    '''\n",
    "    multi dimensional data conver to 2 dimensional data\n",
    "    -----------\n",
    "    parameters:\n",
    "    -----------\n",
    "    data:  multi dimensional dataframe\n",
    "    \n",
    "    return:\n",
    "    -------\n",
    "    sp:  2D dataframe\n",
    "    \n",
    "    exapmle:\n",
    "    -------\n",
    "    \n",
    "    TID      ITEMS\n",
    "    100      egg,burgers,chicken \n",
    "    200      glass,green tea,cake\n",
    "    ------------------------\n",
    "    '''\n",
    "    data.fillna(0,inplace=True)\n",
    "    sp = pd.DataFrame(np.zeros(len(data)*1).reshape(len(data),1),columns=[\"ürünler\"])\n",
    "    for i in range(len(sepet)):\n",
    "        arr = data.loc[i].values\n",
    "        new_arr = np.delete(arr, np.where(arr == 0))\n",
    "        #print(new_arr)\n",
    "        st = \"\".join(f\"{k},\" for k in new_arr)\n",
    "        sp[\"ürünler\"][i] = st.rstrip(\",\")\n",
    "    return sp\n",
    "\n",
    "def tree(data):\n",
    "    product = [data.iloc[i].values[0].split(\",\") for i in range(len(data))]\n",
    "    tr = {}\n",
    "    for i in range(len(product)):\n",
    "        for j in range(len(product[i])):           \n",
    "                tr[product[i][j]] = 1\n",
    "    return tr\n",
    "\n",
    "def encode(tr,data,threshold):\n",
    "    df = pd.DataFrame(np.zeros(len(data)*len(tr.keys()))\n",
    "                      .reshape(len(data),len(tr.keys())),\n",
    "                      dtype = \"int\",\n",
    "                      columns=[list(tr.keys())])    \n",
    "    cy = [data.iloc[i].values[0].split(\",\") for i in range(len(data))]\n",
    "    counter = 0\n",
    "    for x in cy:\n",
    "        df.loc[counter][x] = 1\n",
    "        counter+=1\n",
    "    freq = pd.DataFrame(df.apply(lambda x: x.sum()),\n",
    "                        columns = [\"Frequency\"],dtype=\"float\")\n",
    "    kk = freq.values.max()*threshold\n",
    "    freq = freq[freq.values>kk]\n",
    "    return df,freq\n",
    "\n",
    "def binary_ıtems(df,freq,threshold):\n",
    "    n = freq.values.max()*threshold\n",
    "    cols = [i[0] for i in df.columns]\n",
    "    tree = {}\n",
    "    r = {} \n",
    "    for k in range(2):\n",
    "        for i in list(combinations(cols,k+1)):\n",
    "            if len(i)<2:\n",
    "                dim = df[[i]]\n",
    "                frq =(dim.sum(axis=1).values == 1).sum()\n",
    "                if frq<n:\n",
    "                    cols.remove(i[0])\n",
    "            else:\n",
    "                dim = df[list(i)]\n",
    "                frq =(dim.sum(axis=1).values == dim.shape[1]).sum()\n",
    "                if frq>n:\n",
    "                    tree[i] = frq/len(df)\n",
    "                else:\n",
    "                    r[i] = frq/len(df)\n",
    "    return cols,r.keys()\n",
    "\n",
    "def poli_ıtems(df,keys,cols,n,threshold):\n",
    "    threshold = freq.values.max()*threshold\n",
    "    tree = {}\n",
    "    counter = 0\n",
    "    for k in range(2,n):\n",
    "        for i in list(combinations(cols,k+1)):\n",
    "            for xx in keys:\n",
    "                for kk in range(len(xx)):\n",
    "                    if (xx[kk] in i) == True:\n",
    "                        counter +=1\n",
    "            if counter<len(keys)+1:\n",
    "                dim = df[list(i)]\n",
    "                frq =(dim.sum(axis=1).values == dim.shape[1]).sum()\n",
    "                if frq>threshold:\n",
    "                    print(f\"olur: {i} : {frq/len(df)}  {frq}\")\n",
    "                    ass_rule(df,i)\n",
    "                    tree[i] = frq/len(df)\n",
    "            else:pass\n",
    "            counter = 0\n",
    "        keys = tree.keys()\n",
    "        tree = {}\n",
    "        \n",
    "def ass_rule(df,value):\n",
    "    ay = [list(combinations(value,i)) for i in range(2,len(value))]\n",
    "    frq =(df[list(value)].sum(axis=1).values == df[list(value)].shape[1]).sum()\n",
    "    for i in value:\n",
    "        for x in ay[0]:\n",
    "            if i in x:\n",
    "                pass\n",
    "            else:\n",
    "                a = (df[i].sum(axis=1).values == df[i].shape[1]).sum()\n",
    "                b = (df[list(x)].sum(axis=1).values == df[list(x)].shape[1]).sum()\n",
    "                l = len(df)\n",
    "                calculater([a,b],[i,x],l,frq)\n",
    "\n",
    "def calculater(a_b,x_y,l,frq):\n",
    "    counter = 0\n",
    "    while counter<2:\n",
    "        a,b = a_b[0],a_b[1]\n",
    "        print(f\"_____{x_y[0]}-{x_y[1]}_____\")\n",
    "        print(f\"confidence: {round(frq/a,3)}\")\n",
    "        print(f\"lift: {round((frq/a)/(b/l),3)}\")\n",
    "        print(f\"conviction: {(1-(b/l))/(1-(frq/a))}\")\n",
    "        print(f\"leverage: {(frq/l)-((a/l)*(b/l))}\")\n",
    "        print(\"___________________________________\")\n",
    "        counter +=1\n",
    "        a_b.reverse()\n",
    "        x_y.reverse()"
   ]
  },
  {
   "cell_type": "markdown",
   "id": "00bcca55",
   "metadata": {},
   "source": [
    "###  Association Rule"
   ]
  },
  {
   "cell_type": "markdown",
   "id": "83d7ed3a",
   "metadata": {},
   "source": [
    "Birliktelik Kuralı, veritabanlarındaki değişkenler arasında bazı kuralların tespit edilmesidir. Elde edilen kurallar geleceğe yönelik satış,tahmin,pazarlama vb. amaçlar doğrultusunda kullanılmaktadır. Değişkenler/ürünler arasında ilginç bağlantıları bulup ona göre bir eylem(promosyon,kampanya,ürün yerleştirme vb.) yapılabilir. Örnek olarak veritabanımızdaki ürünler arasında \"X,Y ve Z filmleri arasında X ve Y filmlerini izleyen müşteriler %80 oranında Z filmini de izlemiştir\" şeklinde ilginç bir kural keşfettik. O zaman X ve Y filmlerini izleyen bir müşteriye Z filmini önerirsek büyük ihtimalle Z filmini de izleyecektir. Böylelikle Z filminin izlenme sayısında artış sağlanacaktır."
   ]
  },
  {
   "cell_type": "markdown",
   "id": "ccff909b",
   "metadata": {},
   "source": [
    "Bu yazıda birliktelik kuralını öğrenmede en popüler ve en çok kullanılan Apriori algoritması üzerinde anlamaya çalışalım."
   ]
  },
  {
   "cell_type": "markdown",
   "id": "cfac9f2f",
   "metadata": {},
   "source": [
    "Apriori algortiması, en basit haliyle kuralları ürünlerin frekanslarına bakarak elde etmeye çalışır. Belirtilen koşulları sağlamayan ürünleri/değişkenleri eleyerek kalan değişkenler üzerinden yine frekans hesaplayarak yola devam eder. "
   ]
  },
  {
   "cell_type": "markdown",
   "id": "953d3c68",
   "metadata": {},
   "source": [
    "basit bir sepet için apriori algoritmasını uygulayalım"
   ]
  },
  {
   "cell_type": "code",
   "execution_count": 4,
   "id": "64ea4206",
   "metadata": {},
   "outputs": [
    {
     "data": {
      "text/html": [
       "<div>\n",
       "<style scoped>\n",
       "    .dataframe tbody tr th:only-of-type {\n",
       "        vertical-align: middle;\n",
       "    }\n",
       "\n",
       "    .dataframe tbody tr th {\n",
       "        vertical-align: top;\n",
       "    }\n",
       "\n",
       "    .dataframe thead th {\n",
       "        text-align: right;\n",
       "    }\n",
       "</style>\n",
       "<table border=\"1\" class=\"dataframe\">\n",
       "  <thead>\n",
       "    <tr style=\"text-align: right;\">\n",
       "      <th></th>\n",
       "      <th>ürünler</th>\n",
       "    </tr>\n",
       "  </thead>\n",
       "  <tbody>\n",
       "    <tr>\n",
       "      <th>0</th>\n",
       "      <td>süt,ekmek,meyve</td>\n",
       "    </tr>\n",
       "    <tr>\n",
       "      <th>1</th>\n",
       "      <td>tere yağı,yumurta,meyve</td>\n",
       "    </tr>\n",
       "    <tr>\n",
       "      <th>2</th>\n",
       "      <td>bira,çocuk bezi</td>\n",
       "    </tr>\n",
       "    <tr>\n",
       "      <th>3</th>\n",
       "      <td>süt,ekmek,tere yağı,yumurta,meyve</td>\n",
       "    </tr>\n",
       "    <tr>\n",
       "      <th>4</th>\n",
       "      <td>ekmek</td>\n",
       "    </tr>\n",
       "  </tbody>\n",
       "</table>\n",
       "</div>"
      ],
      "text/plain": [
       "                             ürünler\n",
       "0                    süt,ekmek,meyve\n",
       "1            tere yağı,yumurta,meyve\n",
       "2                    bira,çocuk bezi\n",
       "3  süt,ekmek,tere yağı,yumurta,meyve\n",
       "4                              ekmek"
      ]
     },
     "execution_count": 4,
     "metadata": {},
     "output_type": "execute_result"
    }
   ],
   "source": [
    "w =  [\"süt,ekmek,meyve\",\"tere yağı,yumurta,meyve\",\"bira,çocuk bezi\",\"süt,ekmek,tere yağı,yumurta,meyve\",\"ekmek\"]\n",
    "wk = pd.DataFrame(w,columns = [\"ürünler\"])\n",
    "wk"
   ]
  },
  {
   "cell_type": "markdown",
   "id": "a2eecb47",
   "metadata": {},
   "source": [
    "veri seti bir alışveriş mağazasında yapılan 5 işlemi gösteriyor. Bu işlemlerde alınan ürünler üzerinden birliktelik kuralları çıkarıp bir kampanya yapacağımız varsaylım. 3'lü ürünlerden oluşan bir kampanya yapacak olursak birlikte satılma ihtimali en yüksek 3 üründen seçmemiz gerekir. O zaman bu işlemleri belli kurallara değerlendirip bir kampanya oluşturalım.\n",
    "Önce veri setimizi encode edip ürünlerin olup olmama durumlarını 0 ve 1 ile gösterelim"
   ]
  },
  {
   "cell_type": "markdown",
   "id": "77d98d58",
   "metadata": {},
   "source": [
    "<strong>Support (Destek):</strong> Nesnenin veya ürünün o toplulukta ne kadar yapıldığını yüzde olarak gösterir. Yapılan eylem/Topluluktaki tüm eylemlerler şeklinde tanımlanır. 50 müşteri içinde A ürününü alanların sayısı 18 olsun. Bu durumda A ürünün destek değeri = 18/50 = 0.36 olarak bulunur. Yani bu toplulukta A ürününün alınma ihtimali %36 denilebilir."
   ]
  },
  {
   "cell_type": "markdown",
   "id": "27650593",
   "metadata": {},
   "source": [
    "tree fonksiyonu ile ürünlerin benzersiz olanlarını alıyoruz hepsine temsili olarak 1 değerini atadık\n",
    "encode fonksiyonu ile de işlemlerde hangi ürün alınmışsa bir hangisi alınmamışsa 0 olarak atama yapıyoruz\n",
    "mesela '0' numaralı işlemde milk,bread,fruit alındığı için 1 diğer ürünler alınmadığı için 0 girdik.\n",
    "\n",
    "encode fonksiyonuna bir eşik değerde girip bun eşik değerin altındaki ürünleri çıkarmasını söyledik"
   ]
  },
  {
   "cell_type": "markdown",
   "id": "f4564b81",
   "metadata": {},
   "source": [
    "encode fonksiyonu oluşan df üzerinden ürünlerin kaç kere tekrar ettiğini yani frekanslarını bulup yine bize df olarak return ediyor"
   ]
  },
  {
   "cell_type": "code",
   "execution_count": 9,
   "id": "ce5a459b",
   "metadata": {},
   "outputs": [],
   "source": [
    "df,freq = encode(tree(wk),wk,0.5)"
   ]
  },
  {
   "cell_type": "markdown",
   "id": "b5230ae8",
   "metadata": {},
   "source": [
    "binary_ıtems, 0 ve 1 ile encode edilen tabloyu, freq tablosunu ve bir eşik değeri parametre olarak alıp bu ürünlerden ikili paketlerin durumlarını(eşik değerin üstünde olması koşulu ile) return eder."
   ]
  },
  {
   "cell_type": "code",
   "execution_count": 6,
   "id": "5d2584e4",
   "metadata": {},
   "outputs": [
    {
     "data": {
      "text/plain": [
       "dict_keys([('süt', 'tere yağı'), ('süt', 'yumurta'), ('ekmek', 'tere yağı'), ('ekmek', 'yumurta')])"
      ]
     },
     "execution_count": 6,
     "metadata": {},
     "output_type": "execute_result"
    }
   ],
   "source": [
    "df,freq = encode(tree(wk),wk,0.5)\n",
    "cols,keys=binary_ıtems(df,freq,0.5)\n",
    "poli_ıtems(df,keys,cols,3,0.5)"
   ]
  },
  {
   "cell_type": "markdown",
   "id": "98469f51",
   "metadata": {},
   "source": [
    "amacımız 3'lü paketler olduğu için poli_ıtems ile 2 ve daha fazla gruplu kampanya durumlarını inceleyelim."
   ]
  },
  {
   "cell_type": "markdown",
   "id": "848e811a",
   "metadata": {},
   "source": [
    "poli_ıtems,encodeden dönen df,binary_ıtems fonksiyonundan dönen keys ve cols değerini ve kaç paket olacağını ve eşik değeri parametre olarak alır. Dönüş değeri olarak belirlenen koşulları sağlayan paketleri df olarak return eder."
   ]
  },
  {
   "cell_type": "code",
   "execution_count": 14,
   "id": "b57fba54",
   "metadata": {},
   "outputs": [
    {
     "name": "stdout",
     "output_type": "stream",
     "text": [
      "olur: ('süt', 'ekmek', 'meyve') : 0.4  2\n",
      "_____süt-('ekmek', 'meyve')_____\n",
      "confidence: 1.0\n",
      "lift: 2.5\n",
      "conviction: inf\n",
      "leverage: 0.24\n",
      "___________________________________\n",
      "_____('ekmek', 'meyve')-süt_____\n",
      "confidence: 1.0\n",
      "lift: 2.5\n",
      "conviction: inf\n",
      "leverage: 0.24\n",
      "___________________________________\n",
      "_____ekmek-('süt', 'meyve')_____\n",
      "confidence: 0.667\n",
      "lift: 1.667\n",
      "conviction: 1.7999999999999998\n",
      "leverage: 0.16000000000000003\n",
      "___________________________________\n",
      "_____('süt', 'meyve')-ekmek_____\n",
      "confidence: 1.0\n",
      "lift: 1.667\n",
      "conviction: inf\n",
      "leverage: 0.16000000000000003\n",
      "___________________________________\n",
      "_____meyve-('süt', 'ekmek')_____\n",
      "confidence: 0.667\n",
      "lift: 1.667\n",
      "conviction: 1.7999999999999998\n",
      "leverage: 0.16000000000000003\n",
      "___________________________________\n",
      "_____('süt', 'ekmek')-meyve_____\n",
      "confidence: 1.0\n",
      "lift: 1.667\n",
      "conviction: inf\n",
      "leverage: 0.16000000000000003\n",
      "___________________________________\n",
      "olur: ('meyve', 'tere yağı', 'yumurta') : 0.4  2\n",
      "_____meyve-('tere yağı', 'yumurta')_____\n",
      "confidence: 0.667\n",
      "lift: 1.667\n",
      "conviction: 1.7999999999999998\n",
      "leverage: 0.16000000000000003\n",
      "___________________________________\n",
      "_____('tere yağı', 'yumurta')-meyve_____\n",
      "confidence: 1.0\n",
      "lift: 1.667\n",
      "conviction: inf\n",
      "leverage: 0.16000000000000003\n",
      "___________________________________\n",
      "_____tere yağı-('meyve', 'yumurta')_____\n",
      "confidence: 1.0\n",
      "lift: 2.5\n",
      "conviction: inf\n",
      "leverage: 0.24\n",
      "___________________________________\n",
      "_____('meyve', 'yumurta')-tere yağı_____\n",
      "confidence: 1.0\n",
      "lift: 2.5\n",
      "conviction: inf\n",
      "leverage: 0.24\n",
      "___________________________________\n",
      "_____yumurta-('meyve', 'tere yağı')_____\n",
      "confidence: 1.0\n",
      "lift: 2.5\n",
      "conviction: inf\n",
      "leverage: 0.24\n",
      "___________________________________\n",
      "_____('meyve', 'tere yağı')-yumurta_____\n",
      "confidence: 1.0\n",
      "lift: 2.5\n",
      "conviction: inf\n",
      "leverage: 0.24\n",
      "___________________________________\n"
     ]
    },
    {
     "name": "stderr",
     "output_type": "stream",
     "text": [
      "<ipython-input-12-259c9d94a142>:119: RuntimeWarning: divide by zero encountered in double_scalars\n",
      "  print(f\"conviction: {(1-(b/l))/(1-(frq/a))}\")\n"
     ]
    }
   ],
   "source": [
    "poli_ıtems(df,keys,cols,4,0.5)"
   ]
  },
  {
   "cell_type": "markdown",
   "id": "5dd211fe",
   "metadata": {},
   "source": [
    "3'lü paketlerde milk,bread,fruit yada fruit,butter,eggs şeklinde oluşturulabilir."
   ]
  },
  {
   "cell_type": "markdown",
   "id": "d3ecaad9",
   "metadata": {},
   "source": [
    "4'lü veya daha fazla paketlerde ya eşik değerin altında yada birlikte bulunma ihtimalleri olmadığı için elenmiş oluyor"
   ]
  },
  {
   "cell_type": "markdown",
   "id": "be643101",
   "metadata": {},
   "source": [
    "elde edilen bu 3'lü paketlerin bazı değerlerinde bakmak gerekir ve bu değerler üzerinden oluşturulacak bu paketler hakkında çıkarımlarda bulunmak gerekebilir."
   ]
  },
  {
   "cell_type": "markdown",
   "id": "548fa25b",
   "metadata": {},
   "source": [
    "<strong>Confidence: </strong> Güven aralığını temsil eder.0 ile 1 arasında değer alır. Birden fazla ürün ile yapılan değerlendirme sürecinde kullanılır. Koşullu olasılıktan yola çıkarak bulunur. Koşullu olasığın tahmini olarak da düşünülebilir. Confidence(a->b) P(b | a) gibi bir örnek şunu ifade eder: a'nın alınmış olması koşuluyla b'nin alınma olasığı nedir? a ve b'nin birlikte oldukları durumların support değerini x'in support değerine böldüğümüzde güven değerini elde etmiş oluruz. Bu değer 1' ne kadar yakında elde edilen kural o kadar doğrudur denilebilir. Örneğin çıkan değer 0.70 olsun. O zaman a ürünü alınırsa %70 olasılıkla b ürünü de alınacaktır gibi bir yorum yapılabilir. conf = 1 ise kesinlik ifade eder. Yani her a ürününü alan b'yi de almıştır."
   ]
  },
  {
   "cell_type": "markdown",
   "id": "d662b275",
   "metadata": {},
   "source": [
    "<strong>Lift: </strong>Asansör anlamında da kullanılan bir terimdir. Şöyle düşünelim toplam 100 müşteri içinde A ürününü alanlar, B ürününü alanlar, her iki ürünü alanlar ve ne A’yı ne de B’yi alan müşteriler vardır. Sadece A ürününü alanlar 8 sadece B ürününü alanlar 10 hem A hem B ürününü alanlar 2 ve her iki ürünü almayan 80 müşteri olsun. B ürünün satılma oranını artırmak için nasıl bir yol izlemeliyiz?"
   ]
  },
  {
   "cell_type": "code",
   "execution_count": 8,
   "id": "ad08c697",
   "metadata": {},
   "outputs": [
    {
     "data": {
      "image/png": "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\n",
      "text/plain": [
       "<PIL.PngImagePlugin.PngImageFile image mode=RGB size=319x198 at 0x18D7606A160>"
      ]
     },
     "execution_count": 8,
     "metadata": {},
     "output_type": "execute_result"
    }
   ],
   "source": [
    "from PIL import Image\n",
    "Image.open(r\"C:\\Users\\akmet\\Desktop\\lift.png\")"
   ]
  },
  {
   "cell_type": "markdown",
   "id": "35d27e28",
   "metadata": {},
   "source": [
    "yukarıdaki şemaya bakacak olursak tüm müşteriler içinde A’yı alanların oranı %10 ve B’yi alanların oranı %12.  Müşterilerin %2’si  her iki  üründen de almıştır. A ürününü alanların 2 tanesi B ürününü de almış yani 10 kişiden 2 tanesi B’yi de almış. Oranlarsak A’nın özelinde B’nin alınma oranı %20 olur. Normal de %12 olan değer A kümesi özelinde %20’ye yükselmiş oldu. A ürünü B’nin değerini %12 den %20’ çıkararak bir kaldıraç görevi görmüş oldu. Sonuç olarak A ürününe odaklanırsak B’nin satılma oranını daha yükseltmiş oluruz."
   ]
  },
  {
   "cell_type": "markdown",
   "id": "de2b8eca",
   "metadata": {},
   "source": [
    "Birbirine bağlanan ürünlerin etkilerini gösterir. Örnek lift(a->b) olsun. lift>1 ise a'nın alınması b ürünün alınmasına olumlu etki yaptığını gösterir. lift<1 ise a'nın alınması b'nin alınmasını olumsuz etkilediğini gösterir. lift = 1 ise bu iki ürün arasında herhangi bir kural ilişki yoktur. Yani a'nın alınmasının b'ye olumlu yada olumsuz herhangi bir etkisinin olmadığını gösterir."
   ]
  },
  {
   "cell_type": "markdown",
   "id": "59c62098",
   "metadata": {},
   "source": [
    "<strong>Conviction (Kanaat,İnanç): </strong> Bu metrik eylemler bağımsız olsaydı birliktelik ne kadar yanlış olacağının oranını gösterir. 1'den büyükse yanlış tahmin yapmanın bu iki eylemin bağımsız olmasından daha az gerçekleştiğini gösterir. Çok kullanılan bir metric değildir."
   ]
  },
  {
   "cell_type": "markdown",
   "id": "95537737",
   "metadata": {},
   "source": [
    "<strong>Leverage : </strong> Ürünlerin birbirlerine ne kadar bağımlı olduklarını gösterir. Çok kullanılan bir metric değildir."
   ]
  },
  {
   "cell_type": "markdown",
   "id": "e5898d83",
   "metadata": {},
   "source": [
    "# MEDİUM SON"
   ]
  },
  {
   "cell_type": "markdown",
   "id": "aafa777d",
   "metadata": {},
   "source": [
    "# ---------------------------------------------------------------------------------------------------------------"
   ]
  },
 
