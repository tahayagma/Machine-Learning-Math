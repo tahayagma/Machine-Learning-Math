{
 "cells": [
  {
   "cell_type": "code",
   "execution_count": 2,
   "id": "a2376c8c",
   "metadata": {},
   "outputs": [],
   "source": [
    "import pandas as pd\n",
    "import numpy as np\n",
    "from itertools import combinations\n"
   ]
  },
  {
   "cell_type": "code",
   "execution_count": 15,
   "id": "790a8d8f",
   "metadata": {},
   "outputs": [],
   "source": [
    "# data = pd.read_csv(\"sepet.csv\",header= None,names =[\"ürünler\"])\n",
    "# data.shape"
   ]
  },
  {
   "cell_type": "markdown",
   "id": "3ca3e945",
   "metadata": {},
   "source": [
    "# MEDİUM"
   ]
  },
  {
   "cell_type": "code",
   "execution_count": 12,
   "id": "43e4bfb6",
   "metadata": {},
   "outputs": [],
   "source": [
    "# if data not 2D shape this is funciton convert to 2-dimensional type\n",
    "def to_2D(data):\n",
    "    '''\n",
    "    multi dimensional data conver to 2 dimensional data\n",
    "    -----------\n",
    "    parameters:\n",
    "    -----------\n",
    "    data:  multi dimensional dataframe\n",
    "    \n",
    "    return:\n",
    "    -------\n",
    "    sp:  2D dataframe\n",
    "    \n",
    "    exapmle:\n",
    "    -------\n",
    "    \n",
    "    TID      ITEMS\n",
    "    100      egg,burgers,chicken \n",
    "    200      glass,green tea,cake\n",
    "    ------------------------\n",
    "    '''\n",
    "    data.fillna(0,inplace=True)\n",
    "    sp = pd.DataFrame(np.zeros(len(data)*1).reshape(len(data),1),columns=[\"ürünler\"])\n",
    "    for i in range(len(sepet)):\n",
    "        arr = data.loc[i].values\n",
    "        new_arr = np.delete(arr, np.where(arr == 0))\n",
    "        #print(new_arr)\n",
    "        st = \"\".join(f\"{k},\" for k in new_arr)\n",
    "        sp[\"ürünler\"][i] = st.rstrip(\",\")\n",
    "    return sp\n",
    "\n",
    "def tree(data):\n",
    "    product = [data.iloc[i].values[0].split(\",\") for i in range(len(data))]\n",
    "    tr = {}\n",
    "    for i in range(len(product)):\n",
    "        for j in range(len(product[i])):           \n",
    "                tr[product[i][j]] = 1\n",
    "    return tr\n",
    "\n",
    "def encode(tr,data,threshold):\n",
    "    df = pd.DataFrame(np.zeros(len(data)*len(tr.keys()))\n",
    "                      .reshape(len(data),len(tr.keys())),\n",
    "                      dtype = \"int\",\n",
    "                      columns=[list(tr.keys())])    \n",
    "    cy = [data.iloc[i].values[0].split(\",\") for i in range(len(data))]\n",
    "    counter = 0\n",
    "    for x in cy:\n",
    "        df.loc[counter][x] = 1\n",
    "        counter+=1\n",
    "    freq = pd.DataFrame(df.apply(lambda x: x.sum()),\n",
    "                        columns = [\"Frequency\"],dtype=\"float\")\n",
    "    kk = freq.values.max()*threshold\n",
    "    freq = freq[freq.values>kk]\n",
    "    return df,freq\n",
    "\n",
    "def binary_ıtems(df,freq,threshold):\n",
    "    n = freq.values.max()*threshold\n",
    "    cols = [i[0] for i in df.columns]\n",
    "    tree = {}\n",
    "    r = {} \n",
    "    for k in range(2):\n",
    "        for i in list(combinations(cols,k+1)):\n",
    "            if len(i)<2:\n",
    "                dim = df[[i]]\n",
    "                frq =(dim.sum(axis=1).values == 1).sum()\n",
    "                if frq<n:\n",
    "                    cols.remove(i[0])\n",
    "            else:\n",
    "                dim = df[list(i)]\n",
    "                frq =(dim.sum(axis=1).values == dim.shape[1]).sum()\n",
    "                if frq>n:\n",
    "                    tree[i] = frq/len(df)\n",
    "                else:\n",
    "                    r[i] = frq/len(df)\n",
    "    return cols,r.keys()\n",
    "\n",
    "def poli_ıtems(df,keys,cols,n,threshold):\n",
    "    threshold = freq.values.max()*threshold\n",
    "    tree = {}\n",
    "    counter = 0\n",
    "    for k in range(2,n):\n",
    "        for i in list(combinations(cols,k+1)):\n",
    "            for xx in keys:\n",
    "                for kk in range(len(xx)):\n",
    "                    if (xx[kk] in i) == True:\n",
    "                        counter +=1\n",
    "            if counter<len(keys)+1:\n",
    "                dim = df[list(i)]\n",
    "                frq =(dim.sum(axis=1).values == dim.shape[1]).sum()\n",
    "                if frq>threshold:\n",
    "                    print(f\"olur: {i} : {frq/len(df)}  {frq}\")\n",
    "                    ass_rule(df,i)\n",
    "                    tree[i] = frq/len(df)\n",
    "            else:pass\n",
    "            counter = 0\n",
    "        keys = tree.keys()\n",
    "        tree = {}\n",
    "        \n",
    "def ass_rule(df,value):\n",
    "    ay = [list(combinations(value,i)) for i in range(2,len(value))]\n",
    "    frq =(df[list(value)].sum(axis=1).values == df[list(value)].shape[1]).sum()\n",
    "    for i in value:\n",
    "        for x in ay[0]:\n",
    "            if i in x:\n",
    "                pass\n",
    "            else:\n",
    "                a = (df[i].sum(axis=1).values == df[i].shape[1]).sum()\n",
    "                b = (df[list(x)].sum(axis=1).values == df[list(x)].shape[1]).sum()\n",
    "                l = len(df)\n",
    "                calculater([a,b],[i,x],l,frq)\n",
    "\n",
    "def calculater(a_b,x_y,l,frq):\n",
    "    counter = 0\n",
    "    while counter<2:\n",
    "        a,b = a_b[0],a_b[1]\n",
    "        print(f\"_____{x_y[0]}-{x_y[1]}_____\")\n",
    "        print(f\"confidence: {round(frq/a,3)}\")\n",
    "        print(f\"lift: {round((frq/a)/(b/l),3)}\")\n",
    "        print(f\"conviction: {(1-(b/l))/(1-(frq/a))}\")\n",
    "        print(f\"leverage: {(frq/l)-((a/l)*(b/l))}\")\n",
    "        print(\"___________________________________\")\n",
    "        counter +=1\n",
    "        a_b.reverse()\n",
    "        x_y.reverse()"
   ]
  },
  {
   "cell_type": "markdown",
   "id": "00bcca55",
   "metadata": {},
   "source": [
    "###  Association Rule"
   ]
  },
  {
   "cell_type": "markdown",
   "id": "83d7ed3a",
   "metadata": {},
   "source": [
    "Birliktelik Kuralı, veritabanlarındaki değişkenler arasında bazı kuralların tespit edilmesidir. Elde edilen kurallar geleceğe yönelik satış,tahmin,pazarlama vb. amaçlar doğrultusunda kullanılmaktadır. Değişkenler/ürünler arasında ilginç bağlantıları bulup ona göre bir eylem(promosyon,kampanya,ürün yerleştirme vb.) yapılabilir. Örnek olarak veritabanımızdaki ürünler arasında \"X,Y ve Z filmleri arasında X ve Y filmlerini izleyen müşteriler %80 oranında Z filmini de izlemiştir\" şeklinde ilginç bir kural keşfettik. O zaman X ve Y filmlerini izleyen bir müşteriye Z filmini önerirsek büyük ihtimalle Z filmini de izleyecektir. Böylelikle Z filminin izlenme sayısında artış sağlanacaktır."
   ]
  },
  {
   "cell_type": "markdown",
   "id": "ccff909b",
   "metadata": {},
   "source": [
    "Bu yazıda birliktelik kuralını öğrenmede en popüler ve en çok kullanılan Apriori algoritması üzerinde anlamaya çalışalım."
   ]
  },
  {
   "cell_type": "markdown",
   "id": "cfac9f2f",
   "metadata": {},
   "source": [
    "Apriori algortiması, en basit haliyle kuralları ürünlerin frekanslarına bakarak elde etmeye çalışır. Belirtilen koşulları sağlamayan ürünleri/değişkenleri eleyerek kalan değişkenler üzerinden yine frekans hesaplayarak yola devam eder. "
   ]
  },
  {
   "cell_type": "markdown",
   "id": "953d3c68",
   "metadata": {},
   "source": [
    "basit bir sepet için apriori algoritmasını uygulayalım"
   ]
  },
  {
   "cell_type": "code",
   "execution_count": 4,
   "id": "64ea4206",
   "metadata": {},
   "outputs": [
    {
     "data": {
      "text/html": [
       "<div>\n",
       "<style scoped>\n",
       "    .dataframe tbody tr th:only-of-type {\n",
       "        vertical-align: middle;\n",
       "    }\n",
       "\n",
       "    .dataframe tbody tr th {\n",
       "        vertical-align: top;\n",
       "    }\n",
       "\n",
       "    .dataframe thead th {\n",
       "        text-align: right;\n",
       "    }\n",
       "</style>\n",
       "<table border=\"1\" class=\"dataframe\">\n",
       "  <thead>\n",
       "    <tr style=\"text-align: right;\">\n",
       "      <th></th>\n",
       "      <th>ürünler</th>\n",
       "    </tr>\n",
       "  </thead>\n",
       "  <tbody>\n",
       "    <tr>\n",
       "      <th>0</th>\n",
       "      <td>süt,ekmek,meyve</td>\n",
       "    </tr>\n",
       "    <tr>\n",
       "      <th>1</th>\n",
       "      <td>tere yağı,yumurta,meyve</td>\n",
       "    </tr>\n",
       "    <tr>\n",
       "      <th>2</th>\n",
       "      <td>bira,çocuk bezi</td>\n",
       "    </tr>\n",
       "    <tr>\n",
       "      <th>3</th>\n",
       "      <td>süt,ekmek,tere yağı,yumurta,meyve</td>\n",
       "    </tr>\n",
       "    <tr>\n",
       "      <th>4</th>\n",
       "      <td>ekmek</td>\n",
       "    </tr>\n",
       "  </tbody>\n",
       "</table>\n",
       "</div>"
      ],
      "text/plain": [
       "                             ürünler\n",
       "0                    süt,ekmek,meyve\n",
       "1            tere yağı,yumurta,meyve\n",
       "2                    bira,çocuk bezi\n",
       "3  süt,ekmek,tere yağı,yumurta,meyve\n",
       "4                              ekmek"
      ]
     },
     "execution_count": 4,
     "metadata": {},
     "output_type": "execute_result"
    }
   ],
   "source": [
    "w =  [\"süt,ekmek,meyve\",\"tere yağı,yumurta,meyve\",\"bira,çocuk bezi\",\"süt,ekmek,tere yağı,yumurta,meyve\",\"ekmek\"]\n",
    "wk = pd.DataFrame(w,columns = [\"ürünler\"])\n",
    "wk"
   ]
  },
  {
   "cell_type": "markdown",
   "id": "a2eecb47",
   "metadata": {},
   "source": [
    "veri seti bir alışveriş mağazasında yapılan 5 işlemi gösteriyor. Bu işlemlerde alınan ürünler üzerinden birliktelik kuralları çıkarıp bir kampanya yapacağımız varsaylım. 3'lü ürünlerden oluşan bir kampanya yapacak olursak birlikte satılma ihtimali en yüksek 3 üründen seçmemiz gerekir. O zaman bu işlemleri belli kurallara değerlendirip bir kampanya oluşturalım.\n",
    "Önce veri setimizi encode edip ürünlerin olup olmama durumlarını 0 ve 1 ile gösterelim"
   ]
  },
  {
   "cell_type": "markdown",
   "id": "77d98d58",
   "metadata": {},
   "source": [
    "<strong>Support (Destek):</strong> Nesnenin veya ürünün o toplulukta ne kadar yapıldığını yüzde olarak gösterir. Yapılan eylem/Topluluktaki tüm eylemlerler şeklinde tanımlanır. 50 müşteri içinde A ürününü alanların sayısı 18 olsun. Bu durumda A ürünün destek değeri = 18/50 = 0.36 olarak bulunur. Yani bu toplulukta A ürününün alınma ihtimali %36 denilebilir."
   ]
  },
  {
   "cell_type": "markdown",
   "id": "27650593",
   "metadata": {},
   "source": [
    "tree fonksiyonu ile ürünlerin benzersiz olanlarını alıyoruz hepsine temsili olarak 1 değerini atadık\n",
    "encode fonksiyonu ile de işlemlerde hangi ürün alınmışsa bir hangisi alınmamışsa 0 olarak atama yapıyoruz\n",
    "mesela '0' numaralı işlemde milk,bread,fruit alındığı için 1 diğer ürünler alınmadığı için 0 girdik.\n",
    "\n",
    "encode fonksiyonuna bir eşik değerde girip bun eşik değerin altındaki ürünleri çıkarmasını söyledik"
   ]
  },
  {
   "cell_type": "markdown",
   "id": "f4564b81",
   "metadata": {},
   "source": [
    "encode fonksiyonu oluşan df üzerinden ürünlerin kaç kere tekrar ettiğini yani frekanslarını bulup yine bize df olarak return ediyor"
   ]
  },
  {
   "cell_type": "code",
   "execution_count": 9,
   "id": "ce5a459b",
   "metadata": {},
   "outputs": [],
   "source": [
    "df,freq = encode(tree(wk),wk,0.5)"
   ]
  },
  {
   "cell_type": "markdown",
   "id": "b5230ae8",
   "metadata": {},
   "source": [
    "binary_ıtems, 0 ve 1 ile encode edilen tabloyu, freq tablosunu ve bir eşik değeri parametre olarak alıp bu ürünlerden ikili paketlerin durumlarını(eşik değerin üstünde olması koşulu ile) return eder."
   ]
  },
  {
   "cell_type": "code",
   "execution_count": 6,
   "id": "5d2584e4",
   "metadata": {},
   "outputs": [
    {
     "data": {
      "text/plain": [
       "dict_keys([('süt', 'tere yağı'), ('süt', 'yumurta'), ('ekmek', 'tere yağı'), ('ekmek', 'yumurta')])"
      ]
     },
     "execution_count": 6,
     "metadata": {},
     "output_type": "execute_result"
    }
   ],
   "source": [
    "df,freq = encode(tree(wk),wk,0.5)\n",
    "cols,keys=binary_ıtems(df,freq,0.5)\n",
    "poli_ıtems(df,keys,cols,3,0.5)"
   ]
  },
  {
   "cell_type": "markdown",
   "id": "98469f51",
   "metadata": {},
   "source": [
    "amacımız 3'lü paketler olduğu için poli_ıtems ile 2 ve daha fazla gruplu kampanya durumlarını inceleyelim."
   ]
  },
  {
   "cell_type": "markdown",
   "id": "848e811a",
   "metadata": {},
   "source": [
    "poli_ıtems,encodeden dönen df,binary_ıtems fonksiyonundan dönen keys ve cols değerini ve kaç paket olacağını ve eşik değeri parametre olarak alır. Dönüş değeri olarak belirlenen koşulları sağlayan paketleri df olarak return eder."
   ]
  },
  {
   "cell_type": "code",
   "execution_count": 14,
   "id": "b57fba54",
   "metadata": {},
   "outputs": [
    {
     "name": "stdout",
     "output_type": "stream",
     "text": [
      "olur: ('süt', 'ekmek', 'meyve') : 0.4  2\n",
      "_____süt-('ekmek', 'meyve')_____\n",
      "confidence: 1.0\n",
      "lift: 2.5\n",
      "conviction: inf\n",
      "leverage: 0.24\n",
      "___________________________________\n",
      "_____('ekmek', 'meyve')-süt_____\n",
      "confidence: 1.0\n",
      "lift: 2.5\n",
      "conviction: inf\n",
      "leverage: 0.24\n",
      "___________________________________\n",
      "_____ekmek-('süt', 'meyve')_____\n",
      "confidence: 0.667\n",
      "lift: 1.667\n",
      "conviction: 1.7999999999999998\n",
      "leverage: 0.16000000000000003\n",
      "___________________________________\n",
      "_____('süt', 'meyve')-ekmek_____\n",
      "confidence: 1.0\n",
      "lift: 1.667\n",
      "conviction: inf\n",
      "leverage: 0.16000000000000003\n",
      "___________________________________\n",
      "_____meyve-('süt', 'ekmek')_____\n",
      "confidence: 0.667\n",
      "lift: 1.667\n",
      "conviction: 1.7999999999999998\n",
      "leverage: 0.16000000000000003\n",
      "___________________________________\n",
      "_____('süt', 'ekmek')-meyve_____\n",
      "confidence: 1.0\n",
      "lift: 1.667\n",
      "conviction: inf\n",
      "leverage: 0.16000000000000003\n",
      "___________________________________\n",
      "olur: ('meyve', 'tere yağı', 'yumurta') : 0.4  2\n",
      "_____meyve-('tere yağı', 'yumurta')_____\n",
      "confidence: 0.667\n",
      "lift: 1.667\n",
      "conviction: 1.7999999999999998\n",
      "leverage: 0.16000000000000003\n",
      "___________________________________\n",
      "_____('tere yağı', 'yumurta')-meyve_____\n",
      "confidence: 1.0\n",
      "lift: 1.667\n",
      "conviction: inf\n",
      "leverage: 0.16000000000000003\n",
      "___________________________________\n",
      "_____tere yağı-('meyve', 'yumurta')_____\n",
      "confidence: 1.0\n",
      "lift: 2.5\n",
      "conviction: inf\n",
      "leverage: 0.24\n",
      "___________________________________\n",
      "_____('meyve', 'yumurta')-tere yağı_____\n",
      "confidence: 1.0\n",
      "lift: 2.5\n",
      "conviction: inf\n",
      "leverage: 0.24\n",
      "___________________________________\n",
      "_____yumurta-('meyve', 'tere yağı')_____\n",
      "confidence: 1.0\n",
      "lift: 2.5\n",
      "conviction: inf\n",
      "leverage: 0.24\n",
      "___________________________________\n",
      "_____('meyve', 'tere yağı')-yumurta_____\n",
      "confidence: 1.0\n",
      "lift: 2.5\n",
      "conviction: inf\n",
      "leverage: 0.24\n",
      "___________________________________\n"
     ]
    },
    {
     "name": "stderr",
     "output_type": "stream",
     "text": [
      "<ipython-input-12-259c9d94a142>:119: RuntimeWarning: divide by zero encountered in double_scalars\n",
      "  print(f\"conviction: {(1-(b/l))/(1-(frq/a))}\")\n"
     ]
    }
   ],
   "source": [
    "poli_ıtems(df,keys,cols,4,0.5)"
   ]
  },
  {
   "cell_type": "markdown",
   "id": "5dd211fe",
   "metadata": {},
   "source": [
    "3'lü paketlerde milk,bread,fruit yada fruit,butter,eggs şeklinde oluşturulabilir."
   ]
  },
  {
   "cell_type": "markdown",
   "id": "d3ecaad9",
   "metadata": {},
   "source": [
    "4'lü veya daha fazla paketlerde ya eşik değerin altında yada birlikte bulunma ihtimalleri olmadığı için elenmiş oluyor"
   ]
  },
  {
   "cell_type": "markdown",
   "id": "be643101",
   "metadata": {},
   "source": [
    "elde edilen bu 3'lü paketlerin bazı değerlerinde bakmak gerekir ve bu değerler üzerinden oluşturulacak bu paketler hakkında çıkarımlarda bulunmak gerekebilir."
   ]
  },
  {
   "cell_type": "markdown",
   "id": "548fa25b",
   "metadata": {},
   "source": [
    "<strong>Confidence: </strong> Güven aralığını temsil eder.0 ile 1 arasında değer alır. Birden fazla ürün ile yapılan değerlendirme sürecinde kullanılır. Koşullu olasılıktan yola çıkarak bulunur. Koşullu olasığın tahmini olarak da düşünülebilir. Confidence(a->b) P(b | a) gibi bir örnek şunu ifade eder: a'nın alınmış olması koşuluyla b'nin alınma olasığı nedir? a ve b'nin birlikte oldukları durumların support değerini x'in support değerine böldüğümüzde güven değerini elde etmiş oluruz. Bu değer 1' ne kadar yakında elde edilen kural o kadar doğrudur denilebilir. Örneğin çıkan değer 0.70 olsun. O zaman a ürünü alınırsa %70 olasılıkla b ürünü de alınacaktır gibi bir yorum yapılabilir. conf = 1 ise kesinlik ifade eder. Yani her a ürününü alan b'yi de almıştır."
   ]
  },
  {
   "cell_type": "markdown",
   "id": "d662b275",
   "metadata": {},
   "source": [
    "<strong>Lift: </strong>Asansör anlamında da kullanılan bir terimdir. Şöyle düşünelim toplam 100 müşteri içinde A ürününü alanlar, B ürününü alanlar, her iki ürünü alanlar ve ne A’yı ne de B’yi alan müşteriler vardır. Sadece A ürününü alanlar 8 sadece B ürününü alanlar 10 hem A hem B ürününü alanlar 2 ve her iki ürünü almayan 80 müşteri olsun. B ürünün satılma oranını artırmak için nasıl bir yol izlemeliyiz?"
   ]
  },
  {
   "cell_type": "code",
   "execution_count": 8,
   "id": "ad08c697",
   "metadata": {},
   "outputs": [
    {
     "data": {
      "image/png": "[encoded data removed]",
      "text/plain": [
       "<PIL.PngImagePlugin.PngImageFile image mode=RGB size=319x198 at 0x18D7606A160>"
      ]
     },
     "execution_count": 8,
     "metadata": {},
     "output_type": "execute_result"
    }
   ],
   "source": [
    "from PIL import Image\n",
    "Image.open(r\"C:\\Users\\akmet\\Desktop\\lift.png\")"
   ]
  },
  {
   "cell_type": "markdown",
   "id": "35d27e28",
   "metadata": {},
   "source": [
    "yukarıdaki şemaya bakacak olursak tüm müşteriler içinde A’yı alanların oranı %10 ve B’yi alanların oranı %12.  Müşterilerin %2’si  her iki  üründen de almıştır. A ürününü alanların 2 tanesi B ürününü de almış yani 10 kişiden 2 tanesi B’yi de almış. Oranlarsak A’nın özelinde B’nin alınma oranı %20 olur. Normal de %12 olan değer A kümesi özelinde %20’ye yükselmiş oldu. A ürünü B’nin değerini %12 den %20’ çıkararak bir kaldıraç görevi görmüş oldu. Sonuç olarak A ürününe odaklanırsak B’nin satılma oranını daha yükseltmiş oluruz."
   ]
  },
  {
   "cell_type": "markdown",
   "id": "de2b8eca",
   "metadata": {},
   "source": [
    "Birbirine bağlanan ürünlerin etkilerini gösterir. Örnek lift(a->b) olsun. lift>1 ise a'nın alınması b ürünün alınmasına olumlu etki yaptığını gösterir. lift<1 ise a'nın alınması b'nin alınmasını olumsuz etkilediğini gösterir. lift = 1 ise bu iki ürün arasında herhangi bir kural ilişki yoktur. Yani a'nın alınmasının b'ye olumlu yada olumsuz herhangi bir etkisinin olmadığını gösterir."
   ]
  },
  {
   "cell_type": "markdown",
   "id": "59c62098",
   "metadata": {},
   "source": [
    "<strong>Conviction (Kanaat,İnanç): </strong> Bu metrik eylemler bağımsız olsaydı birliktelik ne kadar yanlış olacağının oranını gösterir. 1'den büyükse yanlış tahmin yapmanın bu iki eylemin bağımsız olmasından daha az gerçekleştiğini gösterir. Çok kullanılan bir metric değildir."
   ]
  },
  {
   "cell_type": "markdown",
   "id": "95537737",
   "metadata": {},
   "source": [
    "<strong>Leverage : </strong> Ürünlerin birbirlerine ne kadar bağımlı olduklarını gösterir. Çok kullanılan bir metric değildir."
   ]
  },
  {
   "cell_type": "markdown",
   "id": "e5898d83",
   "metadata": {},
   "source": [
    "# MEDİUM SON"
   ]
  },
  {
   "cell_type": "markdown",
   "id": "aafa777d",
   "metadata": {},
   "source": [
    "# ---------------------------------------------------------------------------------------------------------------"
   ]
  },
  {
   "cell_type": "code",
   "execution_count": 144,
   "id": "f5a51690",
   "metadata": {
    "collapsed": true
   },
   "outputs": [
    {
     "name": "stdout",
     "output_type": "stream",
     "text": [
      "olur: ('ekmek', 'bebek bezi', 'süt') : 0.5714285714285714  4\n",
      "_____ekmek-('bebek bezi', 'süt')_____\n",
      "confidence: 0.667\n",
      "lift: 0.933\n",
      "convic: 0.857142857142857\n",
      "leverage: -0.04081632653061229\n",
      "___________________________________\n",
      "_____('bebek bezi', 'süt')-ekmek_____\n",
      "confidence: 0.8\n",
      "lift: 0.933\n",
      "convic: 0.7142857142857146\n",
      "leverage: -0.04081632653061229\n",
      "___________________________________\n",
      "_____bebek bezi-('ekmek', 'süt')_____\n",
      "confidence: 0.667\n",
      "lift: 0.933\n",
      "convic: 0.857142857142857\n",
      "leverage: -0.04081632653061229\n",
      "___________________________________\n",
      "_____('ekmek', 'süt')-bebek bezi_____\n",
      "confidence: 0.8\n",
      "lift: 0.933\n",
      "convic: 0.7142857142857146\n",
      "leverage: -0.04081632653061229\n",
      "___________________________________\n",
      "_____süt-('ekmek', 'bebek bezi')_____\n",
      "confidence: 0.667\n",
      "lift: 0.933\n",
      "convic: 0.857142857142857\n",
      "leverage: -0.04081632653061229\n",
      "___________________________________\n",
      "_____('ekmek', 'bebek bezi')-süt_____\n",
      "confidence: 0.8\n",
      "lift: 0.933\n",
      "convic: 0.7142857142857146\n",
      "leverage: -0.04081632653061229\n",
      "___________________________________\n"
     ]
    }
   ],
   "source": [
    "df,freq = encode(tree(data),data,0.5)\n",
    "cols,keys = binary_ıtems(df,freq,0.5)\n",
    "poli_ıtems(df,keys,cols,3,0.5)"
   ]
  },
  {
   "cell_type": "code",
   "execution_count": 139,
   "id": "5cb9d3e1",
   "metadata": {},
   "outputs": [
    {
     "data": {
      "text/html": [
       "<div>\n",
       "<style scoped>\n",
       "    .dataframe tbody tr th:only-of-type {\n",
       "        vertical-align: middle;\n",
       "    }\n",
       "\n",
       "    .dataframe tbody tr th {\n",
       "        vertical-align: top;\n",
       "    }\n",
       "\n",
       "    .dataframe thead th {\n",
       "        text-align: right;\n",
       "    }\n",
       "</style>\n",
       "<table border=\"1\" class=\"dataframe\">\n",
       "  <thead>\n",
       "    <tr style=\"text-align: right;\">\n",
       "      <th></th>\n",
       "      <th>Ürünler</th>\n",
       "    </tr>\n",
       "  </thead>\n",
       "  <tbody>\n",
       "    <tr>\n",
       "      <th>100</th>\n",
       "      <td>1,3,4</td>\n",
       "    </tr>\n",
       "    <tr>\n",
       "      <th>200</th>\n",
       "      <td>2,3,5</td>\n",
       "    </tr>\n",
       "    <tr>\n",
       "      <th>300</th>\n",
       "      <td>1,2,3,5</td>\n",
       "    </tr>\n",
       "    <tr>\n",
       "      <th>400</th>\n",
       "      <td>2,5</td>\n",
       "    </tr>\n",
       "  </tbody>\n",
       "</table>\n",
       "</div>"
      ],
      "text/plain": [
       "     Ürünler\n",
       "100    1,3,4\n",
       "200    2,3,5\n",
       "300  1,2,3,5\n",
       "400      2,5"
      ]
     },
     "execution_count": 139,
     "metadata": {},
     "output_type": "execute_result"
    }
   ],
   "source": [
    "tıbbi = [\"f,a,c,d,g,i,m,p\",\"a,b,c,f,i,m,o\",\"b,f,h,j,o\",\"b,c,k,s,p\"]\n",
    "t_df = pd.DataFrame(tıbbi,index= [\"100\",\"200\",\"300\",\"400\"],columns = [\"Ürünler\"])\n",
    "sadi = [\"1,3,4\",\"2,3,5\",\"1,2,3,5\",\"2,5\"]\n",
    "sadi_df = pd.DataFrame(sadi,index= [\"100\",\"200\",\"300\",\"400\"],columns = [\"Ürünler\"])\n",
    "sadi_df"
   ]
  },
  {
   "cell_type": "code",
   "execution_count": 140,
   "id": "dc874af6",
   "metadata": {
    "collapsed": true
   },
   "outputs": [
    {
     "name": "stdout",
     "output_type": "stream",
     "text": [
      "olur: ('f', 'a', 'c') : 0.5  2\n",
      "_____f-('a', 'c')_____\n",
      "confidence: 0.667\n",
      "lift: 1.333\n",
      "convic: 1.4999999999999998\n",
      "leverage: 0.125\n",
      "___________________________________\n",
      "_____('a', 'c')-f_____\n",
      "confidence: 1.0\n",
      "lift: 1.333\n",
      "convic: inf\n",
      "leverage: 0.125\n",
      "___________________________________\n",
      "_____a-('f', 'c')_____\n",
      "confidence: 1.0\n",
      "lift: 2.0\n",
      "convic: inf\n",
      "leverage: 0.25\n",
      "___________________________________\n",
      "_____('f', 'c')-a_____\n",
      "confidence: 1.0\n",
      "lift: 2.0\n",
      "convic: inf\n",
      "leverage: 0.25\n",
      "___________________________________\n",
      "_____c-('f', 'a')_____\n",
      "confidence: 0.667\n",
      "lift: 1.333\n",
      "convic: 1.4999999999999998\n",
      "leverage: 0.125\n",
      "___________________________________\n",
      "_____('f', 'a')-c_____\n",
      "confidence: 1.0\n",
      "lift: 1.333\n",
      "convic: inf\n",
      "leverage: 0.125\n",
      "___________________________________\n",
      "olur: ('f', 'a', 'i') : 0.5  2\n",
      "_____f-('a', 'i')_____\n",
      "confidence: 0.667\n",
      "lift: 1.333\n",
      "convic: 1.4999999999999998\n",
      "leverage: 0.125\n",
      "___________________________________\n",
      "_____('a', 'i')-f_____\n",
      "confidence: 1.0\n",
      "lift: 1.333\n",
      "convic: inf\n",
      "leverage: 0.125\n",
      "___________________________________\n",
      "_____a-('f', 'i')_____\n",
      "confidence: 1.0\n",
      "lift: 2.0\n",
      "convic: inf\n",
      "leverage: 0.25\n",
      "___________________________________\n",
      "_____('f', 'i')-a_____\n",
      "confidence: 1.0\n",
      "lift: 2.0\n",
      "convic: inf\n",
      "leverage: 0.25\n",
      "___________________________________\n",
      "_____i-('f', 'a')_____\n",
      "confidence: 1.0\n",
      "lift: 2.0\n",
      "convic: inf\n",
      "leverage: 0.25\n",
      "___________________________________\n",
      "_____('f', 'a')-i_____\n",
      "confidence: 1.0\n",
      "lift: 2.0\n",
      "convic: inf\n",
      "leverage: 0.25\n",
      "___________________________________\n",
      "olur: ('f', 'a', 'm') : 0.5  2\n",
      "_____f-('a', 'm')_____\n",
      "confidence: 0.667\n",
      "lift: 1.333\n",
      "convic: 1.4999999999999998\n",
      "leverage: 0.125\n",
      "___________________________________\n",
      "_____('a', 'm')-f_____\n",
      "confidence: 1.0\n",
      "lift: 1.333\n",
      "convic: inf\n",
      "leverage: 0.125\n",
      "___________________________________\n",
      "_____a-('f', 'm')_____\n",
      "confidence: 1.0\n",
      "lift: 2.0\n",
      "convic: inf\n",
      "leverage: 0.25\n",
      "___________________________________\n",
      "_____('f', 'm')-a_____\n",
      "confidence: 1.0\n",
      "lift: 2.0\n",
      "convic: inf\n",
      "leverage: 0.25\n",
      "___________________________________\n",
      "_____m-('f', 'a')_____\n",
      "confidence: 1.0\n",
      "lift: 2.0\n",
      "convic: inf\n",
      "leverage: 0.25\n",
      "___________________________________\n",
      "_____('f', 'a')-m_____\n",
      "confidence: 1.0\n",
      "lift: 2.0\n",
      "convic: inf\n",
      "leverage: 0.25\n",
      "___________________________________\n",
      "olur: ('f', 'c', 'i') : 0.5  2\n",
      "_____f-('c', 'i')_____\n",
      "confidence: 0.667\n",
      "lift: 1.333\n",
      "convic: 1.4999999999999998\n",
      "leverage: 0.125\n",
      "___________________________________\n",
      "_____('c', 'i')-f_____\n",
      "confidence: 1.0\n",
      "lift: 1.333\n",
      "convic: inf\n",
      "leverage: 0.125\n",
      "___________________________________\n",
      "_____c-('f', 'i')_____\n",
      "confidence: 0.667\n",
      "lift: 1.333\n",
      "convic: 1.4999999999999998\n",
      "leverage: 0.125\n",
      "___________________________________\n",
      "_____('f', 'i')-c_____\n",
      "confidence: 1.0\n",
      "lift: 1.333\n",
      "convic: inf\n",
      "leverage: 0.125\n",
      "___________________________________\n",
      "_____i-('f', 'c')_____\n",
      "confidence: 1.0\n",
      "lift: 2.0\n",
      "convic: inf\n",
      "leverage: 0.25\n",
      "___________________________________\n",
      "_____('f', 'c')-i_____\n",
      "confidence: 1.0\n",
      "lift: 2.0\n",
      "convic: inf\n",
      "leverage: 0.25\n",
      "___________________________________\n",
      "olur: ('f', 'c', 'm') : 0.5  2\n",
      "_____f-('c', 'm')_____\n",
      "confidence: 0.667\n",
      "lift: 1.333\n",
      "convic: 1.4999999999999998\n",
      "leverage: 0.125\n",
      "___________________________________\n",
      "_____('c', 'm')-f_____\n",
      "confidence: 1.0\n",
      "lift: 1.333\n",
      "convic: inf\n",
      "leverage: 0.125\n",
      "___________________________________\n",
      "_____c-('f', 'm')_____\n",
      "confidence: 0.667\n",
      "lift: 1.333\n",
      "convic: 1.4999999999999998\n",
      "leverage: 0.125\n",
      "___________________________________\n",
      "_____('f', 'm')-c_____\n",
      "confidence: 1.0\n",
      "lift: 1.333\n",
      "convic: inf\n",
      "leverage: 0.125\n",
      "___________________________________\n"
     ]
    },
    {
     "name": "stderr",
     "output_type": "stream",
     "text": [
      "<ipython-input-136-58637ff42c8e>:120: RuntimeWarning: divide by zero encountered in double_scalars\n",
      "  print(f\"convic: {(1-(b/l))/(1-(frq/a))}\")\n"
     ]
    },
    {
     "name": "stdout",
     "output_type": "stream",
     "text": [
      "_____m-('f', 'c')_____\n",
      "confidence: 1.0\n",
      "lift: 2.0\n",
      "convic: inf\n",
      "leverage: 0.25\n",
      "___________________________________\n",
      "_____('f', 'c')-m_____\n",
      "confidence: 1.0\n",
      "lift: 2.0\n",
      "convic: inf\n",
      "leverage: 0.25\n",
      "___________________________________\n",
      "olur: ('f', 'i', 'm') : 0.5  2\n",
      "_____f-('i', 'm')_____\n",
      "confidence: 0.667\n",
      "lift: 1.333\n",
      "convic: 1.4999999999999998\n",
      "leverage: 0.125\n",
      "___________________________________\n",
      "_____('i', 'm')-f_____\n",
      "confidence: 1.0\n",
      "lift: 1.333\n",
      "convic: inf\n",
      "leverage: 0.125\n",
      "___________________________________\n",
      "_____i-('f', 'm')_____\n",
      "confidence: 1.0\n",
      "lift: 2.0\n",
      "convic: inf\n",
      "leverage: 0.25\n",
      "___________________________________\n",
      "_____('f', 'm')-i_____\n",
      "confidence: 1.0\n",
      "lift: 2.0\n",
      "convic: inf\n",
      "leverage: 0.25\n",
      "___________________________________\n",
      "_____m-('f', 'i')_____\n",
      "confidence: 1.0\n",
      "lift: 2.0\n",
      "convic: inf\n",
      "leverage: 0.25\n",
      "___________________________________\n",
      "_____('f', 'i')-m_____\n",
      "confidence: 1.0\n",
      "lift: 2.0\n",
      "convic: inf\n",
      "leverage: 0.25\n",
      "___________________________________\n",
      "olur: ('f', 'b', 'o') : 0.5  2\n",
      "_____f-('b', 'o')_____\n",
      "confidence: 0.667\n",
      "lift: 1.333\n",
      "convic: 1.4999999999999998\n",
      "leverage: 0.125\n",
      "___________________________________\n",
      "_____('b', 'o')-f_____\n",
      "confidence: 1.0\n",
      "lift: 1.333\n",
      "convic: inf\n",
      "leverage: 0.125\n",
      "___________________________________\n",
      "_____b-('f', 'o')_____\n",
      "confidence: 0.667\n",
      "lift: 1.333\n",
      "convic: 1.4999999999999998\n",
      "leverage: 0.125\n",
      "___________________________________\n",
      "_____('f', 'o')-b_____\n",
      "confidence: 1.0\n",
      "lift: 1.333\n",
      "convic: inf\n",
      "leverage: 0.125\n",
      "___________________________________\n",
      "_____o-('f', 'b')_____\n",
      "confidence: 1.0\n",
      "lift: 2.0\n",
      "convic: inf\n",
      "leverage: 0.25\n",
      "___________________________________\n",
      "_____('f', 'b')-o_____\n",
      "confidence: 1.0\n",
      "lift: 2.0\n",
      "convic: inf\n",
      "leverage: 0.25\n",
      "___________________________________\n",
      "olur: ('a', 'c', 'i') : 0.5  2\n",
      "_____a-('c', 'i')_____\n",
      "confidence: 1.0\n",
      "lift: 2.0\n",
      "convic: inf\n",
      "leverage: 0.25\n",
      "___________________________________\n",
      "_____('c', 'i')-a_____\n",
      "confidence: 1.0\n",
      "lift: 2.0\n",
      "convic: inf\n",
      "leverage: 0.25\n",
      "___________________________________\n",
      "_____c-('a', 'i')_____\n",
      "confidence: 0.667\n",
      "lift: 1.333\n",
      "convic: 1.4999999999999998\n",
      "leverage: 0.125\n",
      "___________________________________\n",
      "_____('a', 'i')-c_____\n",
      "confidence: 1.0\n",
      "lift: 1.333\n",
      "convic: inf\n",
      "leverage: 0.125\n",
      "___________________________________\n",
      "_____i-('a', 'c')_____\n",
      "confidence: 1.0\n",
      "lift: 2.0\n",
      "convic: inf\n",
      "leverage: 0.25\n",
      "___________________________________\n",
      "_____('a', 'c')-i_____\n",
      "confidence: 1.0\n",
      "lift: 2.0\n",
      "convic: inf\n",
      "leverage: 0.25\n",
      "___________________________________\n",
      "olur: ('a', 'c', 'm') : 0.5  2\n",
      "_____a-('c', 'm')_____\n",
      "confidence: 1.0\n",
      "lift: 2.0\n",
      "convic: inf\n",
      "leverage: 0.25\n",
      "___________________________________\n",
      "_____('c', 'm')-a_____\n",
      "confidence: 1.0\n",
      "lift: 2.0\n",
      "convic: inf\n",
      "leverage: 0.25\n",
      "___________________________________\n",
      "_____c-('a', 'm')_____\n",
      "confidence: 0.667\n",
      "lift: 1.333\n",
      "convic: 1.4999999999999998\n",
      "leverage: 0.125\n",
      "___________________________________\n",
      "_____('a', 'm')-c_____\n",
      "confidence: 1.0\n",
      "lift: 1.333\n",
      "convic: inf\n",
      "leverage: 0.125\n",
      "___________________________________\n",
      "_____m-('a', 'c')_____\n",
      "confidence: 1.0\n",
      "lift: 2.0\n",
      "convic: inf\n",
      "leverage: 0.25\n",
      "___________________________________\n",
      "_____('a', 'c')-m_____\n",
      "confidence: 1.0\n",
      "lift: 2.0\n",
      "convic: inf\n",
      "leverage: 0.25\n",
      "___________________________________\n",
      "olur: ('a', 'i', 'm') : 0.5  2\n",
      "_____a-('i', 'm')_____\n",
      "confidence: 1.0\n",
      "lift: 2.0\n",
      "convic: inf\n",
      "leverage: 0.25\n",
      "___________________________________\n",
      "_____('i', 'm')-a_____\n",
      "confidence: 1.0\n",
      "lift: 2.0\n",
      "convic: inf\n",
      "leverage: 0.25\n",
      "___________________________________\n",
      "_____i-('a', 'm')_____\n",
      "confidence: 1.0\n",
      "lift: 2.0\n",
      "convic: inf\n",
      "leverage: 0.25\n",
      "___________________________________\n",
      "_____('a', 'm')-i_____\n",
      "confidence: 1.0\n",
      "lift: 2.0\n",
      "convic: inf\n",
      "leverage: 0.25\n",
      "___________________________________\n",
      "_____m-('a', 'i')_____\n",
      "confidence: 1.0\n",
      "lift: 2.0\n",
      "convic: inf\n",
      "leverage: 0.25\n",
      "___________________________________\n",
      "_____('a', 'i')-m_____\n",
      "confidence: 1.0\n",
      "lift: 2.0\n",
      "convic: inf\n",
      "leverage: 0.25\n",
      "___________________________________\n",
      "olur: ('c', 'i', 'm') : 0.5  2\n",
      "_____c-('i', 'm')_____\n",
      "confidence: 0.667\n",
      "lift: 1.333\n",
      "convic: 1.4999999999999998\n",
      "leverage: 0.125\n",
      "___________________________________\n",
      "_____('i', 'm')-c_____\n",
      "confidence: 1.0\n",
      "lift: 1.333\n",
      "convic: inf\n",
      "leverage: 0.125\n",
      "___________________________________\n",
      "_____i-('c', 'm')_____\n",
      "confidence: 1.0\n",
      "lift: 2.0\n",
      "convic: inf\n",
      "leverage: 0.25\n",
      "___________________________________\n",
      "_____('c', 'm')-i_____\n",
      "confidence: 1.0\n",
      "lift: 2.0\n",
      "convic: inf\n",
      "leverage: 0.25\n",
      "___________________________________\n",
      "_____m-('c', 'i')_____\n",
      "confidence: 1.0\n",
      "lift: 2.0\n",
      "convic: inf\n",
      "leverage: 0.25\n",
      "___________________________________\n",
      "_____('c', 'i')-m_____\n",
      "confidence: 1.0\n",
      "lift: 2.0\n",
      "convic: inf\n",
      "leverage: 0.25\n",
      "___________________________________\n"
     ]
    }
   ],
   "source": [
    "df,freq = encode(tree(t_df),t_df,0.5)\n",
    "cols,keys = binary_ıtems(df,freq,0.5)\n",
    "poli_ıtems(df,keys,cols,3,0.5)"
   ]
  },
  {
   "cell_type": "code",
   "execution_count": 285,
   "id": "3831732b",
   "metadata": {},
   "outputs": [
    {
     "name": "stdout",
     "output_type": "stream",
     "text": [
      "olur: ('mineral water', 'milk', 'spaghetti') : 0.017674418604651163  76\n",
      "olur: ('mineral water', 'spaghetti', 'chocolate') : 0.017209302325581394  74\n"
     ]
    }
   ],
   "source": [
    "# sepet = pd.read_csv(\"https://bilkav.com/sepet.csv\")"
   ]
  },
  {
   "cell_type": "code",
   "execution_count": 235,
   "id": "eae317f3",
   "metadata": {},
   "outputs": [
    {
     "data": {
      "text/plain": [
       "0    2\n",
       "1    1\n",
       "2    1\n",
       "3    3\n",
       "4    3\n",
       "5    2\n",
       "6    3\n",
       "dtype: int64"
      ]
     },
     "execution_count": 235,
     "metadata": {},
     "output_type": "execute_result"
    }
   ],
   "source": [
    "df[[\"süt\",\"bebek bezi\",\"kola\"]].sum(axis=1)"
   ]
  },
  {
   "cell_type": "code",
   "execution_count": 147,
   "id": "4e3623a6",
   "metadata": {},
   "outputs": [
    {
     "data": {
      "text/plain": [
       "2"
      ]
     },
     "execution_count": 147,
     "metadata": {},
     "output_type": "execute_result"
    }
   ],
   "source": [
    "[True, False, True, False].count(True)"
   ]
  },
  {
   "cell_type": "code",
   "execution_count": 144,
   "id": "f72e798c",
   "metadata": {},
   "outputs": [
    {
     "name": "stdout",
     "output_type": "stream",
     "text": [
      "('bira', 'kola')\n",
      "('ekmek', 'kola')\n"
     ]
    }
   ],
   "source": [
    "for i in keys:\n",
    "    print(i)"
   ]
  },
  {
   "cell_type": "code",
   "execution_count": 113,
   "id": "fb6c4a3c",
   "metadata": {},
   "outputs": [
    {
     "name": "stdout",
     "output_type": "stream",
     "text": [
      "error\n",
      "error\n",
      "error\n",
      "error\n"
     ]
    }
   ],
   "source": [
    "aa = {('bira', 'ekmek'): 0.42857142857142855,\n",
    " ('bira', 'bebek bezi'): 0.5714285714285714,\n",
    " ('bira', 'süt'): 0.42857142857142855,\n",
    " ('ekmek', 'bebek bezi'): 0.7142857142857143}\n",
    "l  = []\n",
    "for i in keys:\n",
    "    for k in range(len(i)):\n",
    "        l.append(i[k] in ('süt', 'çerez', 'ekmek'))\n",
    "    if False in l:\n",
    "        print(\"error\")\n",
    "    else:print(\"olur: \",i)\n",
    "    l = []"
   ]
  },
  {
   "cell_type": "code",
   "execution_count": 131,
   "id": "0aa9bcad",
   "metadata": {},
   "outputs": [
    {
     "name": "stdout",
     "output_type": "stream",
     "text": [
      "0\n"
     ]
    },
    {
     "data": {
      "text/html": [
       "<div>\n",
       "<style scoped>\n",
       "    .dataframe tbody tr th:only-of-type {\n",
       "        vertical-align: middle;\n",
       "    }\n",
       "\n",
       "    .dataframe tbody tr th {\n",
       "        vertical-align: top;\n",
       "    }\n",
       "\n",
       "    .dataframe thead tr th {\n",
       "        text-align: left;\n",
       "    }\n",
       "</style>\n",
       "<table border=\"1\" class=\"dataframe\">\n",
       "  <thead>\n",
       "    <tr>\n",
       "      <th></th>\n",
       "      <th>kola</th>\n",
       "      <th>salça</th>\n",
       "    </tr>\n",
       "  </thead>\n",
       "  <tbody>\n",
       "    <tr>\n",
       "      <th>0</th>\n",
       "      <td>0</td>\n",
       "      <td>0</td>\n",
       "    </tr>\n",
       "    <tr>\n",
       "      <th>1</th>\n",
       "      <td>0</td>\n",
       "      <td>1</td>\n",
       "    </tr>\n",
       "    <tr>\n",
       "      <th>2</th>\n",
       "      <td>0</td>\n",
       "      <td>0</td>\n",
       "    </tr>\n",
       "    <tr>\n",
       "      <th>3</th>\n",
       "      <td>1</td>\n",
       "      <td>0</td>\n",
       "    </tr>\n",
       "    <tr>\n",
       "      <th>4</th>\n",
       "      <td>1</td>\n",
       "      <td>0</td>\n",
       "    </tr>\n",
       "    <tr>\n",
       "      <th>5</th>\n",
       "      <td>0</td>\n",
       "      <td>1</td>\n",
       "    </tr>\n",
       "    <tr>\n",
       "      <th>6</th>\n",
       "      <td>1</td>\n",
       "      <td>0</td>\n",
       "    </tr>\n",
       "  </tbody>\n",
       "</table>\n",
       "</div>"
      ],
      "text/plain": [
       "  kola salça\n",
       "0    0     0\n",
       "1    0     1\n",
       "2    0     0\n",
       "3    1     0\n",
       "4    1     0\n",
       "5    0     1\n",
       "6    1     0"
      ]
     },
     "execution_count": 131,
     "metadata": {},
     "output_type": "execute_result"
    }
   ],
   "source": [
    "aa = df[list(('kola', 'salça'))]\n",
    "fr = (aa.sum(axis=1).values == aa.ndim).sum()\n",
    "print(fr)\n",
    "aa"
   ]
  },
  {
   "cell_type": "code",
   "execution_count": 613,
   "id": "0a604d37",
   "metadata": {
    "collapsed": true
   },
   "outputs": [
    {
     "name": "stdout",
     "output_type": "stream",
     "text": [
      "bira-ekmek-bebek bezi: 0.42857142857142855\n",
      "bira-ekmek-süt: 0.7142857142857143\n",
      "bira-ekmek-çerez: 0.42857142857142855\n",
      "bira-ekmek-salça: 0.42857142857142855\n",
      "bira-ekmek-yumurta: 0.2857142857142857\n",
      "bira-ekmek-kola: 0.8571428571428571\n",
      "bira-bebek bezi-süt: 0.42857142857142855\n",
      "bira-bebek bezi-çerez: 0.42857142857142855\n",
      "bira-bebek bezi-salça: 0.42857142857142855\n",
      "bira-bebek bezi-yumurta: 0.42857142857142855\n",
      "bira-bebek bezi-kola: 0.7142857142857143\n",
      "bira-süt-çerez: 0.42857142857142855\n",
      "bira-süt-salça: 0.42857142857142855\n",
      "bira-süt-yumurta: 0.5714285714285714\n",
      "bira-süt-kola: 0.5714285714285714\n",
      "bira-çerez-salça: 0.42857142857142855\n",
      "bira-çerez-yumurta: 0.2857142857142857\n",
      "bira-çerez-kola: 0.2857142857142857\n",
      "bira-salça-yumurta: 0.2857142857142857\n",
      "bira-salça-kola: 0.2857142857142857\n",
      "bira-yumurta-kola: 0.2857142857142857\n",
      "--------\n",
      "ekmek-bebek bezi-süt: 0.42857142857142855\n",
      "ekmek-bebek bezi-çerez: 0.7142857142857143\n",
      "ekmek-bebek bezi-salça: 0.7142857142857143\n",
      "ekmek-bebek bezi-yumurta: 0.5714285714285714\n",
      "ekmek-bebek bezi-kola: 0.5714285714285714\n",
      "ekmek-süt-çerez: 0.42857142857142855\n",
      "ekmek-süt-salça: 0.42857142857142855\n",
      "ekmek-süt-yumurta: 0.8571428571428571\n",
      "ekmek-süt-kola: 0.5714285714285714\n",
      "ekmek-çerez-salça: 0.2857142857142857\n",
      "ekmek-çerez-yumurta: 0.42857142857142855\n",
      "ekmek-çerez-kola: 0.5714285714285714\n",
      "ekmek-salça-yumurta: 0.42857142857142855\n",
      "ekmek-salça-kola: 0.5714285714285714\n",
      "ekmek-yumurta-kola: 0.42857142857142855\n",
      "--------\n",
      "bebek bezi-süt-çerez: 0.7142857142857143\n",
      "bebek bezi-süt-salça: 0.7142857142857143\n",
      "bebek bezi-süt-yumurta: 0.8571428571428571\n",
      "bebek bezi-süt-kola: 0.2857142857142857\n",
      "bebek bezi-çerez-salça: 0.42857142857142855\n",
      "bebek bezi-çerez-yumurta: 0.2857142857142857\n",
      "bebek bezi-çerez-kola: 0.5714285714285714\n",
      "bebek bezi-salça-yumurta: 0.2857142857142857\n",
      "bebek bezi-salça-kola: 0.5714285714285714\n",
      "bebek bezi-yumurta-kola: 0.5714285714285714\n",
      "--------\n",
      "süt-çerez-salça: 0.2857142857142857\n",
      "süt-çerez-yumurta: 0.2857142857142857\n",
      "süt-çerez-kola: 0.7142857142857143\n",
      "süt-salça-yumurta: 0.2857142857142857\n",
      "süt-salça-kola: 0.7142857142857143\n",
      "süt-yumurta-kola: 0.42857142857142855\n",
      "--------\n",
      "çerez-salça-yumurta: 0.14285714285714285\n",
      "çerez-salça-kola: 0.14285714285714285\n",
      "çerez-yumurta-kola: 0.0\n",
      "--------\n",
      "salça-yumurta-kola: 0.0\n",
      "--------\n",
      "--------\n",
      "--------\n"
     ]
    }
   ],
   "source": [
    "cols = [i[0] for i in df.columns]\n",
    "for i in cols:\n",
    "    for x in cols[cols.index(i)+1:]:\n",
    "        for k in cols[cols.index(x)+1:]:\n",
    "            dim = df[[f\"{i}\",f\"{x}\",f\"{k}\"]]\n",
    "            frq =(dim.sum(axis=1).values == dim.ndim).sum()\n",
    "            s = frq/len(df)\n",
    "            print(f\"{i}-{x}-{k}: {s}\")\n",
    "    \n",
    "    print(\"--------\")"
   ]
  },
  {
   "cell_type": "code",
   "execution_count": 346,
   "id": "26077963",
   "metadata": {
    "scrolled": true
   },
   "outputs": [
    {
     "data": {
      "text/html": [
       "<div>\n",
       "<style scoped>\n",
       "    .dataframe tbody tr th:only-of-type {\n",
       "        vertical-align: middle;\n",
       "    }\n",
       "\n",
       "    .dataframe tbody tr th {\n",
       "        vertical-align: top;\n",
       "    }\n",
       "\n",
       "    .dataframe thead th {\n",
       "        text-align: right;\n",
       "    }\n",
       "</style>\n",
       "<table border=\"1\" class=\"dataframe\">\n",
       "  <thead>\n",
       "    <tr style=\"text-align: right;\">\n",
       "      <th></th>\n",
       "      <th>Frequency</th>\n",
       "      <th>Support</th>\n",
       "    </tr>\n",
       "  </thead>\n",
       "  <tbody>\n",
       "    <tr>\n",
       "      <th>bira</th>\n",
       "      <td>4.0</td>\n",
       "      <td>0.571429</td>\n",
       "    </tr>\n",
       "    <tr>\n",
       "      <th>ekmek</th>\n",
       "      <td>6.0</td>\n",
       "      <td>0.857143</td>\n",
       "    </tr>\n",
       "    <tr>\n",
       "      <th>bebek bezi</th>\n",
       "      <td>6.0</td>\n",
       "      <td>0.857143</td>\n",
       "    </tr>\n",
       "    <tr>\n",
       "      <th>süt</th>\n",
       "      <td>6.0</td>\n",
       "      <td>0.857143</td>\n",
       "    </tr>\n",
       "    <tr>\n",
       "      <th>çerez</th>\n",
       "      <td>2.0</td>\n",
       "      <td>0.285714</td>\n",
       "    </tr>\n",
       "    <tr>\n",
       "      <th>salça</th>\n",
       "      <td>2.0</td>\n",
       "      <td>0.285714</td>\n",
       "    </tr>\n",
       "    <tr>\n",
       "      <th>kola</th>\n",
       "      <td>3.0</td>\n",
       "      <td>0.428571</td>\n",
       "    </tr>\n",
       "  </tbody>\n",
       "</table>\n",
       "</div>"
      ],
      "text/plain": [
       "            Frequency   Support\n",
       "bira              4.0  0.571429\n",
       "ekmek             6.0  0.857143\n",
       "bebek bezi        6.0  0.857143\n",
       "süt               6.0  0.857143\n",
       "çerez             2.0  0.285714\n",
       "salça             2.0  0.285714\n",
       "kola              3.0  0.428571"
      ]
     },
     "execution_count": 346,
     "metadata": {},
     "output_type": "execute_result"
    }
   ],
   "source": [
    "ask = support(df,freq)\n",
    "# ask.drop(ask[ask[\"Support\"]<0.28].index[0][0],axis=0,inplace = True)\n",
    "ask"
   ]
  },
  {
   "cell_type": "code",
   "execution_count": 66,
   "id": "a6622c65",
   "metadata": {},
   "outputs": [],
   "source": [
    "# tr = {}\n",
    "# product = [data.loc[i].values[0].split(\",\") for i in range(len(data))]\n",
    "# for i in range(len(product)):\n",
    "#     for j in range(len(product[i])):\n",
    "#         tr[product[i][j]] = 0\n",
    "\n",
    "# product = [data.loc[i].values[0].split(\",\") for i in range(len(data))]\n",
    "# for i in range(len(product)):\n",
    "#     for j in range(len(product[i])):\n",
    "#         tr[product[i][j]] = tr[product[i][j]]+1\n"
   ]
  },
  {
   "cell_type": "code",
   "execution_count": 67,
   "id": "48930a4b",
   "metadata": {},
   "outputs": [],
   "source": [
    "def frequency(data):\n",
    "    product = [data.loc[i].values[0].split(\",\") for i in range(len(data))]\n",
    "    tr = {}\n",
    "    for i in range(len(product)):\n",
    "        for j in range(len(product[i])):\n",
    "            if product[i][j] in tr.keys():\n",
    "                tr[product[i][j]] = tr[product[i][j]]+1\n",
    "            else:\n",
    "                tr[product[i][j]] = 1\n",
    "    return tr"
   ]
  },
  {
   "cell_type": "code",
   "execution_count": 5,
   "id": "5e63d2cb",
   "metadata": {},
   "outputs": [],
   "source": [
    "def support(df,freq):\n",
    "    support_df = pd.DataFrame(np.zeros(len(df)).reshape(len(df),1),columns = [\"Support\"],index = [i[0] for i in df.columns])\n",
    "    for i in freq.index:\n",
    "        support_df[\"Support\"][i[0]] = freq.loc[i][0]/len(df) \n",
    "    support_df.drop(support_df[support_df[\"Support\"]<0.28].index[0],axis=0,inplace = True)\n",
    "    return support_df\n",
    "def multi_d(support_df,n):\n",
    "    cols = [i for i in support_df.index]\n",
    "    for k in range(n):\n",
    "        for i in list(combinations(cols, k+1)):\n",
    "            dim = df[[f\"{i}\",f\"{x}\"]]\n",
    "            frq =(dim.sum(axis=1).values == dim.ndim).sum()\n",
    "            s = frq/len(df)"
   ]
  }
 ],
 "metadata": {
  "kernelspec": {
   "display_name": "Python 3",
   "language": "python",
   "name": "python3"
  },
  "language_info": {
   "codemirror_mode": {
    "name": "ipython",
    "version": 3
   },
   "file_extension": ".py",
   "mimetype": "text/x-python",
   "name": "python",
   "nbconvert_exporter": "python",
   "pygments_lexer": "ipython3",
   "version": "3.8.8"
  }
 },
 "nbformat": 4,
 "nbformat_minor": 5
}
